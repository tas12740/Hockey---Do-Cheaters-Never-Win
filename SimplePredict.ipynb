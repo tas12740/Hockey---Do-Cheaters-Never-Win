{
 "cells": [
  {
   "cell_type": "markdown",
   "metadata": {},
   "source": [
    "# Hockey Project\n",
    "\n",
    "##### Is it true that \"cheaters never win\"?"
   ]
  },
  {
   "cell_type": "markdown",
   "metadata": {},
   "source": [
    "In a sport which produces outcomes more dependent on \"luck,\" or at least random outcomes [CITE], is it any wonder that games often come down to the built-in advantage produced by the power play? Football relies on violence as an inherent aspect of the sport. Baseball, for instance, does not require the first baseman to deck the runner to get him out (though there are plenty of perceived dirty tactics, such as the takeout slide and throwing at a runner, though we'll ignore those for now). Though basketball requires plenty of physicality, from scrapping for rebounds and on defense to setting hard screens, and has had its share of brawls (see Palace, Malice at the or Jeff van Gundy famously clinging to Alonzo Mourning's leg), hockey is perhaps unique among the pantheon of American sports for its usage of controlled violence. A hard yet clean hit can change the momentum of a game, while an ill-advised penalty can do the same in the opposite direction. Hockey is also the only sport where, if the referees so allow it, players can openly fight, though this is due to the fact that they cannot fully gather their weight behind a punch on their unique playing surface. Hockey also has produced its fair share of \"enforcers,\" players whose job is mostly if not wholly to bring their team a physical edge. Though this has resulted in plenty of dirty hits and players (*cough* Tom Wilson *cough*, *cough* Brad \"Shootout King\" Marchand *cough*), it also produces (synonym) an entirely different side to the game. \n",
    "\n",
    "This physical side of hockey can both result in penalties or in drawing penalties, which leads to power plays (or, as Sebastien Aho lovingly calls them, PPs). (Statistics on Power-Play advantages)\n",
    "\n",
    "At home games, immediately before the beginning of a visitor's power play, the Carolina Hurricanes play the iconic *dun dun* of *Law and Order* fame, prompting the fans to gleefully scream: \"Cheaters never win!\" The team is rather ambiguous on what that word precisely means, however. According to *Webster's Dictionary*, ... (just kidding, y'all). I recently wondered exactly what they meant. What, exactly, is a cheater in this context? And, if we can find a satisfying explanation, is it indeed true that they never win?"
   ]
  },
  {
   "cell_type": "code",
   "execution_count": 1,
   "metadata": {},
   "outputs": [],
   "source": [
    "import warnings\n",
    "warnings.filterwarnings(\"ignore\")"
   ]
  },
  {
   "cell_type": "code",
   "execution_count": 2,
   "metadata": {},
   "outputs": [],
   "source": [
    "import pandas as pd\n",
    "pd.set_option('display.max_columns', 500)\n",
    "\n",
    "import numpy as np"
   ]
  },
  {
   "cell_type": "code",
   "execution_count": 11,
   "metadata": {},
   "outputs": [],
   "source": [
    "import matplotlib.pyplot as plt\n",
    "import seaborn as sns"
   ]
  },
  {
   "cell_type": "code",
   "execution_count": 12,
   "metadata": {},
   "outputs": [
    {
     "data": {
      "text/plain": [
       "(1876, 29)"
      ]
     },
     "execution_count": 12,
     "metadata": {},
     "output_type": "execute_result"
    }
   ],
   "source": [
    "hockey_df = pd.read_csv('canes.csv')\n",
    "\n",
    "hockey_df.shape"
   ]
  },
  {
   "cell_type": "code",
   "execution_count": 13,
   "metadata": {},
   "outputs": [
    {
     "data": {
      "text/html": [
       "<div>\n",
       "<style scoped>\n",
       "    .dataframe tbody tr th:only-of-type {\n",
       "        vertical-align: middle;\n",
       "    }\n",
       "\n",
       "    .dataframe tbody tr th {\n",
       "        vertical-align: top;\n",
       "    }\n",
       "\n",
       "    .dataframe thead th {\n",
       "        text-align: right;\n",
       "    }\n",
       "</style>\n",
       "<table border=\"1\" class=\"dataframe\">\n",
       "  <thead>\n",
       "    <tr style=\"text-align: right;\">\n",
       "      <th></th>\n",
       "      <th>year</th>\n",
       "      <th>date_game</th>\n",
       "      <th>game_location</th>\n",
       "      <th>opp_name</th>\n",
       "      <th>goals</th>\n",
       "      <th>opp_goals</th>\n",
       "      <th>game_outcome</th>\n",
       "      <th>overtimes</th>\n",
       "      <th>shots</th>\n",
       "      <th>pen_min</th>\n",
       "      <th>goals_pp</th>\n",
       "      <th>chances_pp</th>\n",
       "      <th>goals_sh</th>\n",
       "      <th>shots_against</th>\n",
       "      <th>pen_min_opp</th>\n",
       "      <th>goals_against_pp</th>\n",
       "      <th>opp_chances_pp</th>\n",
       "      <th>goals_against_sh</th>\n",
       "      <th>corsi_for</th>\n",
       "      <th>corsi_against</th>\n",
       "      <th>corsi_pct</th>\n",
       "      <th>fenwick_for</th>\n",
       "      <th>fenwick_against</th>\n",
       "      <th>fenwick_pct</th>\n",
       "      <th>faceoff_wins</th>\n",
       "      <th>faceoff_losses</th>\n",
       "      <th>faceoff_percentage</th>\n",
       "      <th>zs_offense_pct</th>\n",
       "      <th>pdo</th>\n",
       "    </tr>\n",
       "  </thead>\n",
       "  <tbody>\n",
       "    <tr>\n",
       "      <th>0</th>\n",
       "      <td>1998</td>\n",
       "      <td>1997-10-01</td>\n",
       "      <td>A</td>\n",
       "      <td>Tampa Bay Lightning</td>\n",
       "      <td>2.0</td>\n",
       "      <td>4.0</td>\n",
       "      <td>L</td>\n",
       "      <td>NaN</td>\n",
       "      <td>29.0</td>\n",
       "      <td>39.0</td>\n",
       "      <td>1.0</td>\n",
       "      <td>NaN</td>\n",
       "      <td>0.0</td>\n",
       "      <td>27.0</td>\n",
       "      <td>39.0</td>\n",
       "      <td>2.0</td>\n",
       "      <td>NaN</td>\n",
       "      <td>0.0</td>\n",
       "      <td>NaN</td>\n",
       "      <td>NaN</td>\n",
       "      <td>NaN</td>\n",
       "      <td>NaN</td>\n",
       "      <td>NaN</td>\n",
       "      <td>NaN</td>\n",
       "      <td>NaN</td>\n",
       "      <td>NaN</td>\n",
       "      <td>NaN</td>\n",
       "      <td>NaN</td>\n",
       "      <td>NaN</td>\n",
       "    </tr>\n",
       "    <tr>\n",
       "      <th>1</th>\n",
       "      <td>1998</td>\n",
       "      <td>1997-10-03</td>\n",
       "      <td>H</td>\n",
       "      <td>Pittsburgh Penguins</td>\n",
       "      <td>3.0</td>\n",
       "      <td>4.0</td>\n",
       "      <td>L</td>\n",
       "      <td>NaN</td>\n",
       "      <td>28.0</td>\n",
       "      <td>72.0</td>\n",
       "      <td>2.0</td>\n",
       "      <td>NaN</td>\n",
       "      <td>0.0</td>\n",
       "      <td>27.0</td>\n",
       "      <td>43.0</td>\n",
       "      <td>1.0</td>\n",
       "      <td>NaN</td>\n",
       "      <td>0.0</td>\n",
       "      <td>NaN</td>\n",
       "      <td>NaN</td>\n",
       "      <td>NaN</td>\n",
       "      <td>NaN</td>\n",
       "      <td>NaN</td>\n",
       "      <td>NaN</td>\n",
       "      <td>NaN</td>\n",
       "      <td>NaN</td>\n",
       "      <td>NaN</td>\n",
       "      <td>NaN</td>\n",
       "      <td>NaN</td>\n",
       "    </tr>\n",
       "    <tr>\n",
       "      <th>2</th>\n",
       "      <td>1998</td>\n",
       "      <td>1997-10-04</td>\n",
       "      <td>A</td>\n",
       "      <td>Ottawa Senators</td>\n",
       "      <td>2.0</td>\n",
       "      <td>3.0</td>\n",
       "      <td>L</td>\n",
       "      <td>NaN</td>\n",
       "      <td>18.0</td>\n",
       "      <td>16.0</td>\n",
       "      <td>1.0</td>\n",
       "      <td>NaN</td>\n",
       "      <td>0.0</td>\n",
       "      <td>27.0</td>\n",
       "      <td>10.0</td>\n",
       "      <td>2.0</td>\n",
       "      <td>NaN</td>\n",
       "      <td>0.0</td>\n",
       "      <td>NaN</td>\n",
       "      <td>NaN</td>\n",
       "      <td>NaN</td>\n",
       "      <td>NaN</td>\n",
       "      <td>NaN</td>\n",
       "      <td>NaN</td>\n",
       "      <td>NaN</td>\n",
       "      <td>NaN</td>\n",
       "      <td>NaN</td>\n",
       "      <td>NaN</td>\n",
       "      <td>NaN</td>\n",
       "    </tr>\n",
       "    <tr>\n",
       "      <th>3</th>\n",
       "      <td>1998</td>\n",
       "      <td>1997-10-07</td>\n",
       "      <td>H</td>\n",
       "      <td>Los Angeles Kings</td>\n",
       "      <td>3.0</td>\n",
       "      <td>3.0</td>\n",
       "      <td>T</td>\n",
       "      <td>OT</td>\n",
       "      <td>29.0</td>\n",
       "      <td>18.0</td>\n",
       "      <td>0.0</td>\n",
       "      <td>NaN</td>\n",
       "      <td>0.0</td>\n",
       "      <td>30.0</td>\n",
       "      <td>10.0</td>\n",
       "      <td>0.0</td>\n",
       "      <td>NaN</td>\n",
       "      <td>0.0</td>\n",
       "      <td>NaN</td>\n",
       "      <td>NaN</td>\n",
       "      <td>NaN</td>\n",
       "      <td>NaN</td>\n",
       "      <td>NaN</td>\n",
       "      <td>NaN</td>\n",
       "      <td>NaN</td>\n",
       "      <td>NaN</td>\n",
       "      <td>NaN</td>\n",
       "      <td>NaN</td>\n",
       "      <td>NaN</td>\n",
       "    </tr>\n",
       "    <tr>\n",
       "      <th>4</th>\n",
       "      <td>1998</td>\n",
       "      <td>1997-10-10</td>\n",
       "      <td>H</td>\n",
       "      <td>New Jersey Devils</td>\n",
       "      <td>2.0</td>\n",
       "      <td>1.0</td>\n",
       "      <td>W</td>\n",
       "      <td>NaN</td>\n",
       "      <td>27.0</td>\n",
       "      <td>8.0</td>\n",
       "      <td>0.0</td>\n",
       "      <td>NaN</td>\n",
       "      <td>0.0</td>\n",
       "      <td>17.0</td>\n",
       "      <td>8.0</td>\n",
       "      <td>0.0</td>\n",
       "      <td>NaN</td>\n",
       "      <td>0.0</td>\n",
       "      <td>NaN</td>\n",
       "      <td>NaN</td>\n",
       "      <td>NaN</td>\n",
       "      <td>NaN</td>\n",
       "      <td>NaN</td>\n",
       "      <td>NaN</td>\n",
       "      <td>NaN</td>\n",
       "      <td>NaN</td>\n",
       "      <td>NaN</td>\n",
       "      <td>NaN</td>\n",
       "      <td>NaN</td>\n",
       "    </tr>\n",
       "  </tbody>\n",
       "</table>\n",
       "</div>"
      ],
      "text/plain": [
       "   year   date_game game_location             opp_name  goals  opp_goals  \\\n",
       "0  1998  1997-10-01             A  Tampa Bay Lightning    2.0        4.0   \n",
       "1  1998  1997-10-03             H  Pittsburgh Penguins    3.0        4.0   \n",
       "2  1998  1997-10-04             A      Ottawa Senators    2.0        3.0   \n",
       "3  1998  1997-10-07             H    Los Angeles Kings    3.0        3.0   \n",
       "4  1998  1997-10-10             H    New Jersey Devils    2.0        1.0   \n",
       "\n",
       "  game_outcome overtimes  shots  pen_min  goals_pp  chances_pp  goals_sh  \\\n",
       "0            L       NaN   29.0     39.0       1.0         NaN       0.0   \n",
       "1            L       NaN   28.0     72.0       2.0         NaN       0.0   \n",
       "2            L       NaN   18.0     16.0       1.0         NaN       0.0   \n",
       "3            T        OT   29.0     18.0       0.0         NaN       0.0   \n",
       "4            W       NaN   27.0      8.0       0.0         NaN       0.0   \n",
       "\n",
       "   shots_against  pen_min_opp  goals_against_pp  opp_chances_pp  \\\n",
       "0           27.0         39.0               2.0             NaN   \n",
       "1           27.0         43.0               1.0             NaN   \n",
       "2           27.0         10.0               2.0             NaN   \n",
       "3           30.0         10.0               0.0             NaN   \n",
       "4           17.0          8.0               0.0             NaN   \n",
       "\n",
       "   goals_against_sh  corsi_for  corsi_against  corsi_pct  fenwick_for  \\\n",
       "0               0.0        NaN            NaN        NaN          NaN   \n",
       "1               0.0        NaN            NaN        NaN          NaN   \n",
       "2               0.0        NaN            NaN        NaN          NaN   \n",
       "3               0.0        NaN            NaN        NaN          NaN   \n",
       "4               0.0        NaN            NaN        NaN          NaN   \n",
       "\n",
       "   fenwick_against  fenwick_pct  faceoff_wins  faceoff_losses  \\\n",
       "0              NaN          NaN           NaN             NaN   \n",
       "1              NaN          NaN           NaN             NaN   \n",
       "2              NaN          NaN           NaN             NaN   \n",
       "3              NaN          NaN           NaN             NaN   \n",
       "4              NaN          NaN           NaN             NaN   \n",
       "\n",
       "   faceoff_percentage  zs_offense_pct  pdo  \n",
       "0                 NaN             NaN  NaN  \n",
       "1                 NaN             NaN  NaN  \n",
       "2                 NaN             NaN  NaN  \n",
       "3                 NaN             NaN  NaN  \n",
       "4                 NaN             NaN  NaN  "
      ]
     },
     "execution_count": 13,
     "metadata": {},
     "output_type": "execute_result"
    }
   ],
   "source": [
    "hockey_df.head()"
   ]
  },
  {
   "cell_type": "markdown",
   "metadata": {},
   "source": [
    "The first thing I had to do was get game data for Hurricanes games since their inaugural season in North Carolina in 1997 (sorry, Whalers fans - I love your logo and jerseys <3). Though it's unclear to me when the Canes started using this power play intro (what am I gonna do, reach out to the team for a personal project?), I got the game logs for every regular season game played by the Carolina Hurricanes before separating out home games (we'll explore more broadly later) from Hockey Reference. In the process I discovered I had forgotten about the lockout season since there's no page for the 2005 game data. Though more recent seasons have more statistics tracked (thanks, sabermetrics!), I got a solid 940 games to work with, with complete statistics like shots, penalty minutes, and more [FOOTNOTE FOR COMPLETE LIST]. "
   ]
  },
  {
   "cell_type": "code",
   "execution_count": 14,
   "metadata": {},
   "outputs": [
    {
     "data": {
      "text/plain": [
       "(940, 29)"
      ]
     },
     "execution_count": 14,
     "metadata": {},
     "output_type": "execute_result"
    }
   ],
   "source": [
    "games_home = hockey_df[hockey_df['game_location'] == 'H']\n",
    "games_home['game_outcome'] = games_home['game_outcome'].apply(lambda x : 1 if x == 'W' else 0)\n",
    "\n",
    "games_home.shape"
   ]
  },
  {
   "cell_type": "code",
   "execution_count": 15,
   "metadata": {},
   "outputs": [
    {
     "data": {
      "text/html": [
       "<div>\n",
       "<style scoped>\n",
       "    .dataframe tbody tr th:only-of-type {\n",
       "        vertical-align: middle;\n",
       "    }\n",
       "\n",
       "    .dataframe tbody tr th {\n",
       "        vertical-align: top;\n",
       "    }\n",
       "\n",
       "    .dataframe thead th {\n",
       "        text-align: right;\n",
       "    }\n",
       "</style>\n",
       "<table border=\"1\" class=\"dataframe\">\n",
       "  <thead>\n",
       "    <tr style=\"text-align: right;\">\n",
       "      <th></th>\n",
       "      <th>year</th>\n",
       "      <th>date_game</th>\n",
       "      <th>game_location</th>\n",
       "      <th>opp_name</th>\n",
       "      <th>goals</th>\n",
       "      <th>opp_goals</th>\n",
       "      <th>game_outcome</th>\n",
       "      <th>overtimes</th>\n",
       "      <th>shots</th>\n",
       "      <th>pen_min</th>\n",
       "      <th>goals_pp</th>\n",
       "      <th>chances_pp</th>\n",
       "      <th>goals_sh</th>\n",
       "      <th>shots_against</th>\n",
       "      <th>pen_min_opp</th>\n",
       "      <th>goals_against_pp</th>\n",
       "      <th>opp_chances_pp</th>\n",
       "      <th>goals_against_sh</th>\n",
       "      <th>corsi_for</th>\n",
       "      <th>corsi_against</th>\n",
       "      <th>corsi_pct</th>\n",
       "      <th>fenwick_for</th>\n",
       "      <th>fenwick_against</th>\n",
       "      <th>fenwick_pct</th>\n",
       "      <th>faceoff_wins</th>\n",
       "      <th>faceoff_losses</th>\n",
       "      <th>faceoff_percentage</th>\n",
       "      <th>zs_offense_pct</th>\n",
       "      <th>pdo</th>\n",
       "    </tr>\n",
       "  </thead>\n",
       "  <tbody>\n",
       "    <tr>\n",
       "      <th>1</th>\n",
       "      <td>1998</td>\n",
       "      <td>1997-10-03</td>\n",
       "      <td>H</td>\n",
       "      <td>Pittsburgh Penguins</td>\n",
       "      <td>3.0</td>\n",
       "      <td>4.0</td>\n",
       "      <td>0</td>\n",
       "      <td>NaN</td>\n",
       "      <td>28.0</td>\n",
       "      <td>72.0</td>\n",
       "      <td>2.0</td>\n",
       "      <td>NaN</td>\n",
       "      <td>0.0</td>\n",
       "      <td>27.0</td>\n",
       "      <td>43.0</td>\n",
       "      <td>1.0</td>\n",
       "      <td>NaN</td>\n",
       "      <td>0.0</td>\n",
       "      <td>NaN</td>\n",
       "      <td>NaN</td>\n",
       "      <td>NaN</td>\n",
       "      <td>NaN</td>\n",
       "      <td>NaN</td>\n",
       "      <td>NaN</td>\n",
       "      <td>NaN</td>\n",
       "      <td>NaN</td>\n",
       "      <td>NaN</td>\n",
       "      <td>NaN</td>\n",
       "      <td>NaN</td>\n",
       "    </tr>\n",
       "    <tr>\n",
       "      <th>3</th>\n",
       "      <td>1998</td>\n",
       "      <td>1997-10-07</td>\n",
       "      <td>H</td>\n",
       "      <td>Los Angeles Kings</td>\n",
       "      <td>3.0</td>\n",
       "      <td>3.0</td>\n",
       "      <td>0</td>\n",
       "      <td>OT</td>\n",
       "      <td>29.0</td>\n",
       "      <td>18.0</td>\n",
       "      <td>0.0</td>\n",
       "      <td>NaN</td>\n",
       "      <td>0.0</td>\n",
       "      <td>30.0</td>\n",
       "      <td>10.0</td>\n",
       "      <td>0.0</td>\n",
       "      <td>NaN</td>\n",
       "      <td>0.0</td>\n",
       "      <td>NaN</td>\n",
       "      <td>NaN</td>\n",
       "      <td>NaN</td>\n",
       "      <td>NaN</td>\n",
       "      <td>NaN</td>\n",
       "      <td>NaN</td>\n",
       "      <td>NaN</td>\n",
       "      <td>NaN</td>\n",
       "      <td>NaN</td>\n",
       "      <td>NaN</td>\n",
       "      <td>NaN</td>\n",
       "    </tr>\n",
       "    <tr>\n",
       "      <th>4</th>\n",
       "      <td>1998</td>\n",
       "      <td>1997-10-10</td>\n",
       "      <td>H</td>\n",
       "      <td>New Jersey Devils</td>\n",
       "      <td>2.0</td>\n",
       "      <td>1.0</td>\n",
       "      <td>1</td>\n",
       "      <td>NaN</td>\n",
       "      <td>27.0</td>\n",
       "      <td>8.0</td>\n",
       "      <td>0.0</td>\n",
       "      <td>NaN</td>\n",
       "      <td>0.0</td>\n",
       "      <td>17.0</td>\n",
       "      <td>8.0</td>\n",
       "      <td>0.0</td>\n",
       "      <td>NaN</td>\n",
       "      <td>0.0</td>\n",
       "      <td>NaN</td>\n",
       "      <td>NaN</td>\n",
       "      <td>NaN</td>\n",
       "      <td>NaN</td>\n",
       "      <td>NaN</td>\n",
       "      <td>NaN</td>\n",
       "      <td>NaN</td>\n",
       "      <td>NaN</td>\n",
       "      <td>NaN</td>\n",
       "      <td>NaN</td>\n",
       "      <td>NaN</td>\n",
       "    </tr>\n",
       "    <tr>\n",
       "      <th>8</th>\n",
       "      <td>1998</td>\n",
       "      <td>1997-10-15</td>\n",
       "      <td>H</td>\n",
       "      <td>Buffalo Sabres</td>\n",
       "      <td>3.0</td>\n",
       "      <td>3.0</td>\n",
       "      <td>0</td>\n",
       "      <td>OT</td>\n",
       "      <td>37.0</td>\n",
       "      <td>12.0</td>\n",
       "      <td>2.0</td>\n",
       "      <td>NaN</td>\n",
       "      <td>1.0</td>\n",
       "      <td>28.0</td>\n",
       "      <td>10.0</td>\n",
       "      <td>3.0</td>\n",
       "      <td>NaN</td>\n",
       "      <td>0.0</td>\n",
       "      <td>NaN</td>\n",
       "      <td>NaN</td>\n",
       "      <td>NaN</td>\n",
       "      <td>NaN</td>\n",
       "      <td>NaN</td>\n",
       "      <td>NaN</td>\n",
       "      <td>NaN</td>\n",
       "      <td>NaN</td>\n",
       "      <td>NaN</td>\n",
       "      <td>NaN</td>\n",
       "      <td>NaN</td>\n",
       "    </tr>\n",
       "    <tr>\n",
       "      <th>14</th>\n",
       "      <td>1998</td>\n",
       "      <td>1997-10-22</td>\n",
       "      <td>H</td>\n",
       "      <td>St. Louis Blues</td>\n",
       "      <td>4.0</td>\n",
       "      <td>3.0</td>\n",
       "      <td>1</td>\n",
       "      <td>NaN</td>\n",
       "      <td>26.0</td>\n",
       "      <td>8.0</td>\n",
       "      <td>0.0</td>\n",
       "      <td>NaN</td>\n",
       "      <td>0.0</td>\n",
       "      <td>31.0</td>\n",
       "      <td>4.0</td>\n",
       "      <td>0.0</td>\n",
       "      <td>NaN</td>\n",
       "      <td>0.0</td>\n",
       "      <td>NaN</td>\n",
       "      <td>NaN</td>\n",
       "      <td>NaN</td>\n",
       "      <td>NaN</td>\n",
       "      <td>NaN</td>\n",
       "      <td>NaN</td>\n",
       "      <td>NaN</td>\n",
       "      <td>NaN</td>\n",
       "      <td>NaN</td>\n",
       "      <td>NaN</td>\n",
       "      <td>NaN</td>\n",
       "    </tr>\n",
       "  </tbody>\n",
       "</table>\n",
       "</div>"
      ],
      "text/plain": [
       "    year   date_game game_location             opp_name  goals  opp_goals  \\\n",
       "1   1998  1997-10-03             H  Pittsburgh Penguins    3.0        4.0   \n",
       "3   1998  1997-10-07             H    Los Angeles Kings    3.0        3.0   \n",
       "4   1998  1997-10-10             H    New Jersey Devils    2.0        1.0   \n",
       "8   1998  1997-10-15             H       Buffalo Sabres    3.0        3.0   \n",
       "14  1998  1997-10-22             H      St. Louis Blues    4.0        3.0   \n",
       "\n",
       "    game_outcome overtimes  shots  pen_min  goals_pp  chances_pp  goals_sh  \\\n",
       "1              0       NaN   28.0     72.0       2.0         NaN       0.0   \n",
       "3              0        OT   29.0     18.0       0.0         NaN       0.0   \n",
       "4              1       NaN   27.0      8.0       0.0         NaN       0.0   \n",
       "8              0        OT   37.0     12.0       2.0         NaN       1.0   \n",
       "14             1       NaN   26.0      8.0       0.0         NaN       0.0   \n",
       "\n",
       "    shots_against  pen_min_opp  goals_against_pp  opp_chances_pp  \\\n",
       "1            27.0         43.0               1.0             NaN   \n",
       "3            30.0         10.0               0.0             NaN   \n",
       "4            17.0          8.0               0.0             NaN   \n",
       "8            28.0         10.0               3.0             NaN   \n",
       "14           31.0          4.0               0.0             NaN   \n",
       "\n",
       "    goals_against_sh  corsi_for  corsi_against  corsi_pct  fenwick_for  \\\n",
       "1                0.0        NaN            NaN        NaN          NaN   \n",
       "3                0.0        NaN            NaN        NaN          NaN   \n",
       "4                0.0        NaN            NaN        NaN          NaN   \n",
       "8                0.0        NaN            NaN        NaN          NaN   \n",
       "14               0.0        NaN            NaN        NaN          NaN   \n",
       "\n",
       "    fenwick_against  fenwick_pct  faceoff_wins  faceoff_losses  \\\n",
       "1               NaN          NaN           NaN             NaN   \n",
       "3               NaN          NaN           NaN             NaN   \n",
       "4               NaN          NaN           NaN             NaN   \n",
       "8               NaN          NaN           NaN             NaN   \n",
       "14              NaN          NaN           NaN             NaN   \n",
       "\n",
       "    faceoff_percentage  zs_offense_pct  pdo  \n",
       "1                  NaN             NaN  NaN  \n",
       "3                  NaN             NaN  NaN  \n",
       "4                  NaN             NaN  NaN  \n",
       "8                  NaN             NaN  NaN  \n",
       "14                 NaN             NaN  NaN  "
      ]
     },
     "execution_count": 15,
     "metadata": {},
     "output_type": "execute_result"
    }
   ],
   "source": [
    "games_home.head()"
   ]
  },
  {
   "cell_type": "markdown",
   "metadata": {},
   "source": [
    "First, let's take a very simplistic approach. Can we predict whether the Canes win a home game based on how many penalty minutes their opponent has? It might seem right that the \"cheaters never win\" line, since it plays only for opponent power plays, correlates with the opponent's actions. Let's plot some data first to see if we're on the right track."
   ]
  },
  {
   "cell_type": "code",
   "execution_count": 16,
   "metadata": {},
   "outputs": [],
   "source": [
    "result = np.array(games_home['game_outcome'])"
   ]
  },
  {
   "cell_type": "code",
   "execution_count": 22,
   "metadata": {},
   "outputs": [],
   "source": [
    "opp_pim = np.array(games_home['pen_min_opp'].fillna(0))\n",
    "\n",
    "opp_pim_reshape = opp_pim.reshape((opp_pim.shape[0], 1))"
   ]
  },
  {
   "cell_type": "code",
   "execution_count": 23,
   "metadata": {},
   "outputs": [
    {
     "data": {
      "image/png": "[encoded data removed]",
      "text/plain": [
       "<Figure size 432x288 with 1 Axes>"
      ]
     },
     "metadata": {
      "needs_background": "light"
     },
     "output_type": "display_data"
    }
   ],
   "source": [
    "sns.distplot(opp_pim, kde=False).set_title('Distribution of Opposition Penalty Minutes - Overall')\n",
    "\n",
    "plt.show()"
   ]
  },
  {
   "cell_type": "code",
   "execution_count": 24,
   "metadata": {},
   "outputs": [],
   "source": [
    "opp_pim_wins = np.array(games_home[games_home['game_outcome'] == 1]['pen_min_opp'].fillna(0))\n",
    "opp_pim_losses = np.array(games_home[games_home['game_outcome'] == 0]['pen_min_opp'].fillna(0))"
   ]
  },
  {
   "cell_type": "code",
   "execution_count": 33,
   "metadata": {},
   "outputs": [
    {
     "data": {
      "image/png": "[encoded data removed]",
      "text/plain": [
       "<Figure size 432x288 with 1 Axes>"
      ]
     },
     "metadata": {
      "needs_background": "light"
     },
     "output_type": "display_data"
    }
   ],
   "source": [
    "ax = sns.distplot(opp_pim_wins, label='Wins')\n",
    "sns.distplot(opp_pim_losses, label='Losses', ax=ax)\n",
    "\n",
    "ax.set_title('Distribution of Penalty Minutes in Wins and Losses')\n",
    "\n",
    "plt.legend()\n",
    "plt.show()"
   ]
  },
  {
   "cell_type": "markdown",
   "metadata": {},
   "source": [
    "From the plots, it seems that it might be hard to separate and predict wins and losses purely from opposition penalty minutes alone. Though there seem to be larger peaks for wins to the right of the peaks of the losses, the overall fit to the distributions is rather similar. Nevertheless, we persist! We shall produce a logistic regression model (fancy speak for trying to predict a 1/win or a 0/loss based on somee data) for this purpose."
   ]
  },
  {
   "cell_type": "code",
   "execution_count": 34,
   "metadata": {},
   "outputs": [],
   "source": [
    "from sklearn.model_selection import GridSearchCV\n",
    "from sklearn.linear_model import LogisticRegression\n",
    "from sklearn.pipeline import Pipeline\n",
    "from sklearn.preprocessing import MinMaxScaler, StandardScaler"
   ]
  },
  {
   "cell_type": "code",
   "execution_count": 75,
   "metadata": {},
   "outputs": [
    {
     "name": "stdout",
     "output_type": "stream",
     "text": [
      "0.5553191489361702\n"
     ]
    }
   ],
   "source": [
    "range_c = 10\n",
    "\n",
    "param_grid_reg = {\n",
    "    'C' : [10**i for i in range(-range_c, range_c+1) if i != 0],\n",
    "    'fit_intercept' : [True, False]\n",
    "}\n",
    "# param_grid = {\n",
    "#     'logistic__C' : [10**i for i in range(-range_c, range_c+1) if i != 0],\n",
    "#     'logistic__fit_intercept' : [True, False]\n",
    "# }\n",
    "\n",
    "# pipe_min_max = Pipeline([\n",
    "#     ('scale', MinMaxScaler()),\n",
    "#     ('logistic', LogisticRegression())\n",
    "# ])\n",
    "\n",
    "# pipe_standard = Pipeline([\n",
    "#     ('scale', StandardScaler()),\n",
    "#     ('logistic', LogisticRegression())\n",
    "# ])\n",
    "\n",
    "grid_search_reg = GridSearchCV(LogisticRegression(penalty='none'), param_grid=param_grid_reg, cv=5)\n",
    "# grid_search_min_max = GridSearchCV(pipe_min_max, param_grid=param_grid, cv=5)\n",
    "# grid_search_standard = GridSearchCV(pipe_standard, param_grid=param_grid, cv=5)\n",
    "\n",
    "grid_search_reg.fit(opp_pim_reshape, result)\n",
    "# grid_search_min_max.fit(opp_pim_reshape, result)\n",
    "# grid_search_standard.fit(opp_pim_reshape, result)\n",
    "\n",
    "print (grid_search_reg.score(opp_pim_reshape, result))\n",
    "# print (grid_search_min_max.score(opp_pim_reshape, result))\n",
    "# print (grid_search_standard.score(opp_pim_reshape, result))"
   ]
  },
  {
   "cell_type": "code",
   "execution_count": 76,
   "metadata": {},
   "outputs": [
    {
     "name": "stdout",
     "output_type": "stream",
     "text": [
      "[[0.0294854]] [-0.35867749]\n"
     ]
    }
   ],
   "source": [
    "best = grid_search_reg.best_estimator_\n",
    "# min_max_best = grid_search_min_max.best_estimator_.named_steps['logistic']\n",
    "# standard_best = grid_search_standard.best_estimator_.named_steps['logistic']\n",
    "\n",
    "coefs = best.coef_\n",
    "intercept = best.intercept_\n",
    "\n",
    "# min_max_coefs = min_max_best.coef_\n",
    "# min_max_intercept = min_max_best.intercept_\n",
    "\n",
    "# standard_coefs = standard_best.coef_\n",
    "# standard_intercept = standard_best.intercept_\n",
    "\n",
    "print (coefs, intercept)\n",
    "# print (min_max_coefs, min_max_intercept)\n",
    "# print (standard_coefs, standard_intercept)"
   ]
  },
  {
   "cell_type": "markdown",
   "metadata": {},
   "source": [
    "By using some math, we can see what barrier of penalty minutes it takes for the model to predict a Canes win:\n",
    "\n",
    "$$ \\frac{1}{1+e^{-(m \\bullet x+b)}} = \\frac{1}{2} $$\n",
    "\n",
    "$$ 2 = 1 + e^{-(m \\bullet x+b)} $$\n",
    "\n",
    "$$ 1 = e^{-(m \\bullet x+b)} $$\n",
    "\n",
    "$$ 0 = -(m \\bullet x+b) $$\n",
    "\n",
    "$$ 0 = m \\bullet x + b $$\n",
    "\n",
    "$$ x = -b/m $$\n",
    "\n",
    "We have already found these values with our model, so all it remains to do is find x!"
   ]
  },
  {
   "cell_type": "code",
   "execution_count": 77,
   "metadata": {},
   "outputs": [
    {
     "data": {
      "text/plain": [
       "12.164578971145282"
      ]
     },
     "execution_count": 77,
     "metadata": {},
     "output_type": "execute_result"
    }
   ],
   "source": [
    "-intercept[0]/coefs[0][0]"
   ]
  },
  {
   "cell_type": "markdown",
   "metadata": {},
   "source": [
    "We can see that if the opponent has more than about 12 penalty minutes, the model will predict a Canes win; otherwise, a Canes loss is predicted. However, since this model only produced about 56% accuracy, we should be looking for something that does a little better."
   ]
  },
  {
   "cell_type": "code",
   "execution_count": 78,
   "metadata": {},
   "outputs": [
    {
     "data": {
      "text/plain": [
       "array([[1.        , 0.12249083],\n",
       "       [0.12249083, 1.        ]])"
      ]
     },
     "execution_count": 78,
     "metadata": {},
     "output_type": "execute_result"
    }
   ],
   "source": [
    "corr = np.corrcoef(games_home[['game_outcome', 'pen_min_opp']].fillna(0).to_numpy(), rowvar=False)\n",
    "\n",
    "corr"
   ]
  },
  {
   "cell_type": "markdown",
   "metadata": {},
   "source": [
    "We can also see that the correlation coefficient between penalty minutes and the outcome is a measly .12, showing that we are perhaps misguided in using this simple definition."
   ]
  },
  {
   "cell_type": "markdown",
   "metadata": {},
   "source": [
    "## Cheater Definition 2\n",
    "\n",
    "Alright, take two: what if we define a \"cheater\" as whichever team has more penalty minutes? How often does this match with the result of the game?"
   ]
  },
  {
   "cell_type": "code",
   "execution_count": 53,
   "metadata": {},
   "outputs": [],
   "source": [
    "games_home['pen_min'] = games_home['pen_min'].fillna(0)\n",
    "games_home['pen_min_opp'] = games_home['pen_min_opp'].fillna(0)\n",
    "\n",
    "games_home['more_pim'] = games_home['pen_min'] < games_home['pen_min_opp']\n",
    "games_home['more_pim'] = games_home['more_pim'].apply(lambda x : 1 if x else 0)"
   ]
  },
  {
   "cell_type": "code",
   "execution_count": 54,
   "metadata": {},
   "outputs": [],
   "source": [
    "more_pim = np.array(games_home['more_pim'])"
   ]
  },
  {
   "cell_type": "code",
   "execution_count": 55,
   "metadata": {},
   "outputs": [
    {
     "data": {
      "text/plain": [
       "0.5191489361702127"
      ]
     },
     "execution_count": 55,
     "metadata": {},
     "output_type": "execute_result"
    }
   ],
   "source": [
    "equal_results = (more_pim == result) \n",
    "\n",
    "np.sum(equal_results) / equal_results.shape[0]"
   ]
  },
  {
   "cell_type": "markdown",
   "metadata": {},
   "source": [
    "Hmm, so the team that has more penalty minutes only wins about 52% of the time. This is an interesting result, but it certainly does not help us in our question to definee the NHL cheater.\n",
    "\n",
    "If we define a Canes win with the Canes having less penalty minutes as a \"true positive,\" a Canes loss with the other team having less penalty minutes as a \"true negative,\" a Canes win with the Canes having more penalty minutes as a \"false positive,\" and a Canes loss with the other team having more penalty minutes as a \"false negative,\" we can produce what we call a confusion matrix."
   ]
  },
  {
   "cell_type": "code",
   "execution_count": 60,
   "metadata": {},
   "outputs": [],
   "source": [
    "from sklearn.metrics import confusion_matrix, plot_confusion_matrix"
   ]
  },
  {
   "cell_type": "code",
   "execution_count": 63,
   "metadata": {},
   "outputs": [
    {
     "name": "stdout",
     "output_type": "stream",
     "text": [
      "[[209 259]\n",
      " [193 279]]\n",
      "[[0.22234043 0.27553191]\n",
      " [0.20531915 0.29680851]]\n"
     ]
    }
   ],
   "source": [
    "print (confusion_matrix(result, more_pim))\n",
    "\n",
    "print (confusion_matrix(result, more_pim, normalize='all'))"
   ]
  },
  {
   "cell_type": "code",
   "execution_count": 64,
   "metadata": {},
   "outputs": [
    {
     "data": {
      "text/plain": [
       "array([[1.        , 0.03808325],\n",
       "       [0.03808325, 1.        ]])"
      ]
     },
     "execution_count": 64,
     "metadata": {},
     "output_type": "execute_result"
    }
   ],
   "source": [
    "corr = np.corrcoef(games_home[['game_outcome', 'more_pim']].to_numpy(), rowvar=False)\n",
    "\n",
    "corr"
   ]
  },
  {
   "cell_type": "markdown",
   "metadata": {},
   "source": [
    "## Cheater Definition 3\n",
    "\n",
    "How about if we try to predict the winner based on the difference between the opponent's penalty minutes and the Canes'? Our intuition tells us tells us that a negative number (the Canes having more penalty minutes) probably means a Canes loss. This may seem exactly the same as the last (and it is admittedly quite similar), but this enables us to produce more nuance than a mere binary variable based on which team has more penalty minutes."
   ]
  },
  {
   "cell_type": "code",
   "execution_count": 65,
   "metadata": {},
   "outputs": [],
   "source": [
    "games_home['pim_diff'] = games_home['pen_min_opp'] - games_home['pen_min']"
   ]
  },
  {
   "cell_type": "code",
   "execution_count": 67,
   "metadata": {},
   "outputs": [],
   "source": [
    "pim_diff = np.array(games_home['pim_diff'])"
   ]
  },
  {
   "cell_type": "code",
   "execution_count": 70,
   "metadata": {},
   "outputs": [],
   "source": [
    "pim_diff_wins = np.array(games_home[games_home['game_outcome'] == 1]['pim_diff'])\n",
    "pim_diff_losses = np.array(games_home[games_home['game_outcome'] == 0]['pim_diff'])"
   ]
  },
  {
   "cell_type": "code",
   "execution_count": 71,
   "metadata": {},
   "outputs": [
    {
     "data": {
      "image/png": "[encoded data removed]",
      "text/plain": [
       "<Figure size 432x288 with 1 Axes>"
      ]
     },
     "metadata": {
      "needs_background": "light"
     },
     "output_type": "display_data"
    }
   ],
   "source": [
    "ax = sns.distplot(pim_diff_wins, label='PIM Difference in Wins')\n",
    "sns.distplot(pim_diff_losses, label='PIM Difference in Losses', ax=ax)\n",
    "\n",
    "plt.legend()\n",
    "plt.show()"
   ]
  },
  {
   "cell_type": "markdown",
   "metadata": {},
   "source": [
    "Notes on the plots"
   ]
  },
  {
   "cell_type": "code",
   "execution_count": 87,
   "metadata": {},
   "outputs": [
    {
     "data": {
      "text/plain": [
       "0.5191489361702127"
      ]
     },
     "execution_count": 87,
     "metadata": {},
     "output_type": "execute_result"
    }
   ],
   "source": [
    "grid_search = GridSearchCV(LogisticRegression(penalty='none'), param_grid=param_grid_reg, cv=5)\n",
    "\n",
    "pim_diff_reshape = pim_diff.reshape((pim_diff.shape[0], 1))\n",
    "\n",
    "grid_search.fit(pim_diff_reshape, result)\n",
    "\n",
    "grid_search.score(pim_diff_reshape, result)"
   ]
  },
  {
   "cell_type": "code",
   "execution_count": 84,
   "metadata": {},
   "outputs": [
    {
     "data": {
      "text/plain": [
       "1.9562914880212416"
      ]
     },
     "execution_count": 84,
     "metadata": {},
     "output_type": "execute_result"
    }
   ],
   "source": [
    "-grid_search.best_estimator_.intercept_[0]/grid_search.best_estimator_.coef_[0][0]"
   ]
  },
  {
   "cell_type": "markdown",
   "metadata": {},
   "source": [
    "Note on this result."
   ]
  },
  {
   "cell_type": "code",
   "execution_count": null,
   "metadata": {},
   "outputs": [],
   "source": []
  }
 ],
 "metadata": {
  "kernelspec": {
   "display_name": "Python 3",
   "language": "python",
   "name": "python3"
  },
  "language_info": {
   "codemirror_mode": {
    "name": "ipython",
    "version": 3
   },
   "file_extension": ".py",
   "mimetype": "text/x-python",
   "name": "python",
   "nbconvert_exporter": "python",
   "pygments_lexer": "ipython3",
   "version": "3.6.9"
  }
 },
 "nbformat": 4,
 "nbformat_minor": 4
}
