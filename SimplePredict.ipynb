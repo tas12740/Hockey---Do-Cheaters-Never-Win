{
 "cells": [
  {
   "cell_type": "markdown",
   "metadata": {},
   "source": [
    "# Hockey Project\n",
    "\n",
    "##### Is it true that \"cheaters never win\"?"
   ]
  },
  {
   "cell_type": "markdown",
   "metadata": {},
   "source": [
    "In a sport which produces outcomes more dependent on \"luck,\" or at least random outcomes [CITE], is it any wonder that games often come down to the built-in advantage produced by the power play? Football relies on violence as an inherent aspect of the sport. Baseball, for instance, does not require the first baseman to deck the runner to get him out (though there are plenty of perceived dirty tactics, such as the takeout slide and throwing at a runner, though we'll ignore those for now). Though basketball requires plenty of physicality, from scrapping for rebounds and on defense to setting hard screens, and has had its share of brawls (see Palace, Malice at the or Jeff van Gundy famously clinging to Alonzo Mourning's leg), hockey is perhaps unique among the pantheon of American sports for its usage of controlled violence. A hard yet clean hit can change the momentum of a game, while an ill-advised penalty can do the same in the opposite direction. Hockey is also the only sport where, if the referees so allow it, players can openly fight, though this is due to the fact that they cannot fully gather their weight behind a punch on their unique playing surface. Hockey also has produced its fair share of \"enforcers,\" players whose job is mostly if not wholly to bring their team a physical edge. Though this has resulted in plenty of dirty hits and players (*cough* Tom Wilson *cough*, *cough* Brad \"Shootout King\" Marchand *cough*), it also produces (synonym) an entirely different side to the game. \n",
    "\n",
    "This physical side of hockey can both result in penalties or in drawing penalties, which leads to power plays (or, as Sebastien Aho lovingly calls them, PPs). (Statistics on Power-Play advantages)\n",
    "\n",
    "At home games, immediately before the beginning of a visitor's power play, the Carolina Hurricanes play the iconic *dun dun* of *Law and Order* fame, prompting the fans to gleefully scream: \"Cheaters never win!\" The team is rather ambiguous on what that word precisely means, however. According to *Webster's Dictionary*, ... (just kidding, y'all). I recently wondered exactly what they meant. What, exactly, is a cheater in this context? And, if we can find a satisfying explanation, is it indeed true that they never win?"
   ]
  },
  {
   "cell_type": "code",
   "execution_count": 9,
   "metadata": {},
   "outputs": [],
   "source": [
    "import warnings\n",
    "warnings.filterwarnings(\"ignore\")"
   ]
  },
  {
   "cell_type": "code",
   "execution_count": 2,
   "metadata": {},
   "outputs": [],
   "source": [
    "import pandas as pd\n",
    "pd.set_option('display.max_columns', 500)\n",
    "\n",
    "import numpy as np"
   ]
  },
  {
   "cell_type": "code",
   "execution_count": 3,
   "metadata": {},
   "outputs": [],
   "source": [
    "import matplotlib.pyplot as plt\n",
    "import seaborn as sns\n",
    "\n",
    "import matplotlib.style as style\n",
    "style.use('fivethirtyeight')"
   ]
  },
  {
   "cell_type": "code",
   "execution_count": 6,
   "metadata": {},
   "outputs": [
    {
     "data": {
      "text/plain": [
       "(1876, 29)"
      ]
     },
     "execution_count": 6,
     "metadata": {},
     "output_type": "execute_result"
    }
   ],
   "source": [
    "canes_df = pd.read_csv('canes.csv')\n",
    "\n",
    "canes_df.shape"
   ]
  },
  {
   "cell_type": "code",
   "execution_count": 7,
   "metadata": {},
   "outputs": [
    {
     "data": {
      "text/html": [
       "<div>\n",
       "<style scoped>\n",
       "    .dataframe tbody tr th:only-of-type {\n",
       "        vertical-align: middle;\n",
       "    }\n",
       "\n",
       "    .dataframe tbody tr th {\n",
       "        vertical-align: top;\n",
       "    }\n",
       "\n",
       "    .dataframe thead th {\n",
       "        text-align: right;\n",
       "    }\n",
       "</style>\n",
       "<table border=\"1\" class=\"dataframe\">\n",
       "  <thead>\n",
       "    <tr style=\"text-align: right;\">\n",
       "      <th></th>\n",
       "      <th>year</th>\n",
       "      <th>date_game</th>\n",
       "      <th>game_location</th>\n",
       "      <th>opp_name</th>\n",
       "      <th>goals</th>\n",
       "      <th>opp_goals</th>\n",
       "      <th>game_outcome</th>\n",
       "      <th>overtimes</th>\n",
       "      <th>shots</th>\n",
       "      <th>pen_min</th>\n",
       "      <th>goals_pp</th>\n",
       "      <th>chances_pp</th>\n",
       "      <th>goals_sh</th>\n",
       "      <th>shots_against</th>\n",
       "      <th>pen_min_opp</th>\n",
       "      <th>goals_against_pp</th>\n",
       "      <th>opp_chances_pp</th>\n",
       "      <th>goals_against_sh</th>\n",
       "      <th>corsi_for</th>\n",
       "      <th>corsi_against</th>\n",
       "      <th>corsi_pct</th>\n",
       "      <th>fenwick_for</th>\n",
       "      <th>fenwick_against</th>\n",
       "      <th>fenwick_pct</th>\n",
       "      <th>faceoff_wins</th>\n",
       "      <th>faceoff_losses</th>\n",
       "      <th>faceoff_percentage</th>\n",
       "      <th>zs_offense_pct</th>\n",
       "      <th>pdo</th>\n",
       "    </tr>\n",
       "  </thead>\n",
       "  <tbody>\n",
       "    <tr>\n",
       "      <th>0</th>\n",
       "      <td>1998</td>\n",
       "      <td>1997-10-01</td>\n",
       "      <td>A</td>\n",
       "      <td>Tampa Bay Lightning</td>\n",
       "      <td>2.0</td>\n",
       "      <td>4.0</td>\n",
       "      <td>L</td>\n",
       "      <td>NaN</td>\n",
       "      <td>29.0</td>\n",
       "      <td>39.0</td>\n",
       "      <td>1.0</td>\n",
       "      <td>NaN</td>\n",
       "      <td>0.0</td>\n",
       "      <td>27.0</td>\n",
       "      <td>39.0</td>\n",
       "      <td>2.0</td>\n",
       "      <td>NaN</td>\n",
       "      <td>0.0</td>\n",
       "      <td>NaN</td>\n",
       "      <td>NaN</td>\n",
       "      <td>NaN</td>\n",
       "      <td>NaN</td>\n",
       "      <td>NaN</td>\n",
       "      <td>NaN</td>\n",
       "      <td>NaN</td>\n",
       "      <td>NaN</td>\n",
       "      <td>NaN</td>\n",
       "      <td>NaN</td>\n",
       "      <td>NaN</td>\n",
       "    </tr>\n",
       "    <tr>\n",
       "      <th>1</th>\n",
       "      <td>1998</td>\n",
       "      <td>1997-10-03</td>\n",
       "      <td>H</td>\n",
       "      <td>Pittsburgh Penguins</td>\n",
       "      <td>3.0</td>\n",
       "      <td>4.0</td>\n",
       "      <td>L</td>\n",
       "      <td>NaN</td>\n",
       "      <td>28.0</td>\n",
       "      <td>72.0</td>\n",
       "      <td>2.0</td>\n",
       "      <td>NaN</td>\n",
       "      <td>0.0</td>\n",
       "      <td>27.0</td>\n",
       "      <td>43.0</td>\n",
       "      <td>1.0</td>\n",
       "      <td>NaN</td>\n",
       "      <td>0.0</td>\n",
       "      <td>NaN</td>\n",
       "      <td>NaN</td>\n",
       "      <td>NaN</td>\n",
       "      <td>NaN</td>\n",
       "      <td>NaN</td>\n",
       "      <td>NaN</td>\n",
       "      <td>NaN</td>\n",
       "      <td>NaN</td>\n",
       "      <td>NaN</td>\n",
       "      <td>NaN</td>\n",
       "      <td>NaN</td>\n",
       "    </tr>\n",
       "    <tr>\n",
       "      <th>2</th>\n",
       "      <td>1998</td>\n",
       "      <td>1997-10-04</td>\n",
       "      <td>A</td>\n",
       "      <td>Ottawa Senators</td>\n",
       "      <td>2.0</td>\n",
       "      <td>3.0</td>\n",
       "      <td>L</td>\n",
       "      <td>NaN</td>\n",
       "      <td>18.0</td>\n",
       "      <td>16.0</td>\n",
       "      <td>1.0</td>\n",
       "      <td>NaN</td>\n",
       "      <td>0.0</td>\n",
       "      <td>27.0</td>\n",
       "      <td>10.0</td>\n",
       "      <td>2.0</td>\n",
       "      <td>NaN</td>\n",
       "      <td>0.0</td>\n",
       "      <td>NaN</td>\n",
       "      <td>NaN</td>\n",
       "      <td>NaN</td>\n",
       "      <td>NaN</td>\n",
       "      <td>NaN</td>\n",
       "      <td>NaN</td>\n",
       "      <td>NaN</td>\n",
       "      <td>NaN</td>\n",
       "      <td>NaN</td>\n",
       "      <td>NaN</td>\n",
       "      <td>NaN</td>\n",
       "    </tr>\n",
       "    <tr>\n",
       "      <th>3</th>\n",
       "      <td>1998</td>\n",
       "      <td>1997-10-07</td>\n",
       "      <td>H</td>\n",
       "      <td>Los Angeles Kings</td>\n",
       "      <td>3.0</td>\n",
       "      <td>3.0</td>\n",
       "      <td>T</td>\n",
       "      <td>OT</td>\n",
       "      <td>29.0</td>\n",
       "      <td>18.0</td>\n",
       "      <td>0.0</td>\n",
       "      <td>NaN</td>\n",
       "      <td>0.0</td>\n",
       "      <td>30.0</td>\n",
       "      <td>10.0</td>\n",
       "      <td>0.0</td>\n",
       "      <td>NaN</td>\n",
       "      <td>0.0</td>\n",
       "      <td>NaN</td>\n",
       "      <td>NaN</td>\n",
       "      <td>NaN</td>\n",
       "      <td>NaN</td>\n",
       "      <td>NaN</td>\n",
       "      <td>NaN</td>\n",
       "      <td>NaN</td>\n",
       "      <td>NaN</td>\n",
       "      <td>NaN</td>\n",
       "      <td>NaN</td>\n",
       "      <td>NaN</td>\n",
       "    </tr>\n",
       "    <tr>\n",
       "      <th>4</th>\n",
       "      <td>1998</td>\n",
       "      <td>1997-10-10</td>\n",
       "      <td>H</td>\n",
       "      <td>New Jersey Devils</td>\n",
       "      <td>2.0</td>\n",
       "      <td>1.0</td>\n",
       "      <td>W</td>\n",
       "      <td>NaN</td>\n",
       "      <td>27.0</td>\n",
       "      <td>8.0</td>\n",
       "      <td>0.0</td>\n",
       "      <td>NaN</td>\n",
       "      <td>0.0</td>\n",
       "      <td>17.0</td>\n",
       "      <td>8.0</td>\n",
       "      <td>0.0</td>\n",
       "      <td>NaN</td>\n",
       "      <td>0.0</td>\n",
       "      <td>NaN</td>\n",
       "      <td>NaN</td>\n",
       "      <td>NaN</td>\n",
       "      <td>NaN</td>\n",
       "      <td>NaN</td>\n",
       "      <td>NaN</td>\n",
       "      <td>NaN</td>\n",
       "      <td>NaN</td>\n",
       "      <td>NaN</td>\n",
       "      <td>NaN</td>\n",
       "      <td>NaN</td>\n",
       "    </tr>\n",
       "  </tbody>\n",
       "</table>\n",
       "</div>"
      ],
      "text/plain": [
       "   year   date_game game_location             opp_name  goals  opp_goals  \\\n",
       "0  1998  1997-10-01             A  Tampa Bay Lightning    2.0        4.0   \n",
       "1  1998  1997-10-03             H  Pittsburgh Penguins    3.0        4.0   \n",
       "2  1998  1997-10-04             A      Ottawa Senators    2.0        3.0   \n",
       "3  1998  1997-10-07             H    Los Angeles Kings    3.0        3.0   \n",
       "4  1998  1997-10-10             H    New Jersey Devils    2.0        1.0   \n",
       "\n",
       "  game_outcome overtimes  shots  pen_min  goals_pp  chances_pp  goals_sh  \\\n",
       "0            L       NaN   29.0     39.0       1.0         NaN       0.0   \n",
       "1            L       NaN   28.0     72.0       2.0         NaN       0.0   \n",
       "2            L       NaN   18.0     16.0       1.0         NaN       0.0   \n",
       "3            T        OT   29.0     18.0       0.0         NaN       0.0   \n",
       "4            W       NaN   27.0      8.0       0.0         NaN       0.0   \n",
       "\n",
       "   shots_against  pen_min_opp  goals_against_pp  opp_chances_pp  \\\n",
       "0           27.0         39.0               2.0             NaN   \n",
       "1           27.0         43.0               1.0             NaN   \n",
       "2           27.0         10.0               2.0             NaN   \n",
       "3           30.0         10.0               0.0             NaN   \n",
       "4           17.0          8.0               0.0             NaN   \n",
       "\n",
       "   goals_against_sh  corsi_for  corsi_against  corsi_pct  fenwick_for  \\\n",
       "0               0.0        NaN            NaN        NaN          NaN   \n",
       "1               0.0        NaN            NaN        NaN          NaN   \n",
       "2               0.0        NaN            NaN        NaN          NaN   \n",
       "3               0.0        NaN            NaN        NaN          NaN   \n",
       "4               0.0        NaN            NaN        NaN          NaN   \n",
       "\n",
       "   fenwick_against  fenwick_pct  faceoff_wins  faceoff_losses  \\\n",
       "0              NaN          NaN           NaN             NaN   \n",
       "1              NaN          NaN           NaN             NaN   \n",
       "2              NaN          NaN           NaN             NaN   \n",
       "3              NaN          NaN           NaN             NaN   \n",
       "4              NaN          NaN           NaN             NaN   \n",
       "\n",
       "   faceoff_percentage  zs_offense_pct  pdo  \n",
       "0                 NaN             NaN  NaN  \n",
       "1                 NaN             NaN  NaN  \n",
       "2                 NaN             NaN  NaN  \n",
       "3                 NaN             NaN  NaN  \n",
       "4                 NaN             NaN  NaN  "
      ]
     },
     "execution_count": 7,
     "metadata": {},
     "output_type": "execute_result"
    }
   ],
   "source": [
    "canes_df.head()"
   ]
  },
  {
   "cell_type": "markdown",
   "metadata": {},
   "source": [
    "The first thing I had to do was get game data for Hurricanes games since their inaugural season in North Carolina in 1997 (sorry, Whalers fans - I love your logo and jerseys <3). Though it's unclear to me when the Canes started using this power play intro (what am I gonna do, reach out to the team for a personal project?), preliminary research reveals that the chant has been around since the early days of the Raleigh Entertainment and Sports Arena (what a throwback). Apparently, the chant was brought from Johns Hopkins lacrosse games by one of the founders of what would become Section 328 (LINK), a supporter group of the Hurricanes which has also used the line as the name of their podcast since 2013. I got the game logs for every regular season game played by the Carolina Hurricanes before separating out home games (we'll explore more broadly later) from Hockey Reference. In the process I discovered I had forgotten about the lockout season since there's no page for the 2005 game data. Though more recent seasons have more statistics tracked (thanks, sabermetrics!), I got a solid 940 games to work with, with complete statistics like shots, penalty minutes, and more [FOOTNOTE FOR COMPLETE LIST]. "
   ]
  },
  {
   "cell_type": "code",
   "execution_count": 10,
   "metadata": {},
   "outputs": [
    {
     "data": {
      "text/plain": [
       "(886, 29)"
      ]
     },
     "execution_count": 10,
     "metadata": {},
     "output_type": "execute_result"
    }
   ],
   "source": [
    "games_home = canes_df[canes_df['game_location'] == 'H']\n",
    "games_home_no_ties = games_home[games_home['game_outcome'] != 'T']\n",
    "games_home['game_outcome'] = games_home['game_outcome'].apply(lambda x : 1 if x == 'W' else 0)\n",
    "games_home_no_ties['game_outcome'] = games_home_no_ties['game_outcome'].apply(lambda x : 1 if x == 'W' else 0)\n",
    "\n",
    "games_home_no_ties.shape"
   ]
  },
  {
   "cell_type": "markdown",
   "metadata": {},
   "source": [
    "#### Should we filter out ties as I do before? I guess the alternative is to treat ties as non-Canes victories but that doesn't seem quite right either - in this case, by definition, no \"cheater\" or \"non-cheater\""
   ]
  },
  {
   "cell_type": "code",
   "execution_count": 11,
   "metadata": {},
   "outputs": [
    {
     "data": {
      "text/html": [
       "<div>\n",
       "<style scoped>\n",
       "    .dataframe tbody tr th:only-of-type {\n",
       "        vertical-align: middle;\n",
       "    }\n",
       "\n",
       "    .dataframe tbody tr th {\n",
       "        vertical-align: top;\n",
       "    }\n",
       "\n",
       "    .dataframe thead th {\n",
       "        text-align: right;\n",
       "    }\n",
       "</style>\n",
       "<table border=\"1\" class=\"dataframe\">\n",
       "  <thead>\n",
       "    <tr style=\"text-align: right;\">\n",
       "      <th></th>\n",
       "      <th>year</th>\n",
       "      <th>date_game</th>\n",
       "      <th>game_location</th>\n",
       "      <th>opp_name</th>\n",
       "      <th>goals</th>\n",
       "      <th>opp_goals</th>\n",
       "      <th>game_outcome</th>\n",
       "      <th>overtimes</th>\n",
       "      <th>shots</th>\n",
       "      <th>pen_min</th>\n",
       "      <th>goals_pp</th>\n",
       "      <th>chances_pp</th>\n",
       "      <th>goals_sh</th>\n",
       "      <th>shots_against</th>\n",
       "      <th>pen_min_opp</th>\n",
       "      <th>goals_against_pp</th>\n",
       "      <th>opp_chances_pp</th>\n",
       "      <th>goals_against_sh</th>\n",
       "      <th>corsi_for</th>\n",
       "      <th>corsi_against</th>\n",
       "      <th>corsi_pct</th>\n",
       "      <th>fenwick_for</th>\n",
       "      <th>fenwick_against</th>\n",
       "      <th>fenwick_pct</th>\n",
       "      <th>faceoff_wins</th>\n",
       "      <th>faceoff_losses</th>\n",
       "      <th>faceoff_percentage</th>\n",
       "      <th>zs_offense_pct</th>\n",
       "      <th>pdo</th>\n",
       "    </tr>\n",
       "  </thead>\n",
       "  <tbody>\n",
       "    <tr>\n",
       "      <th>1</th>\n",
       "      <td>1998</td>\n",
       "      <td>1997-10-03</td>\n",
       "      <td>H</td>\n",
       "      <td>Pittsburgh Penguins</td>\n",
       "      <td>3.0</td>\n",
       "      <td>4.0</td>\n",
       "      <td>0</td>\n",
       "      <td>NaN</td>\n",
       "      <td>28.0</td>\n",
       "      <td>72.0</td>\n",
       "      <td>2.0</td>\n",
       "      <td>NaN</td>\n",
       "      <td>0.0</td>\n",
       "      <td>27.0</td>\n",
       "      <td>43.0</td>\n",
       "      <td>1.0</td>\n",
       "      <td>NaN</td>\n",
       "      <td>0.0</td>\n",
       "      <td>NaN</td>\n",
       "      <td>NaN</td>\n",
       "      <td>NaN</td>\n",
       "      <td>NaN</td>\n",
       "      <td>NaN</td>\n",
       "      <td>NaN</td>\n",
       "      <td>NaN</td>\n",
       "      <td>NaN</td>\n",
       "      <td>NaN</td>\n",
       "      <td>NaN</td>\n",
       "      <td>NaN</td>\n",
       "    </tr>\n",
       "    <tr>\n",
       "      <th>4</th>\n",
       "      <td>1998</td>\n",
       "      <td>1997-10-10</td>\n",
       "      <td>H</td>\n",
       "      <td>New Jersey Devils</td>\n",
       "      <td>2.0</td>\n",
       "      <td>1.0</td>\n",
       "      <td>1</td>\n",
       "      <td>NaN</td>\n",
       "      <td>27.0</td>\n",
       "      <td>8.0</td>\n",
       "      <td>0.0</td>\n",
       "      <td>NaN</td>\n",
       "      <td>0.0</td>\n",
       "      <td>17.0</td>\n",
       "      <td>8.0</td>\n",
       "      <td>0.0</td>\n",
       "      <td>NaN</td>\n",
       "      <td>0.0</td>\n",
       "      <td>NaN</td>\n",
       "      <td>NaN</td>\n",
       "      <td>NaN</td>\n",
       "      <td>NaN</td>\n",
       "      <td>NaN</td>\n",
       "      <td>NaN</td>\n",
       "      <td>NaN</td>\n",
       "      <td>NaN</td>\n",
       "      <td>NaN</td>\n",
       "      <td>NaN</td>\n",
       "      <td>NaN</td>\n",
       "    </tr>\n",
       "    <tr>\n",
       "      <th>14</th>\n",
       "      <td>1998</td>\n",
       "      <td>1997-10-22</td>\n",
       "      <td>H</td>\n",
       "      <td>St. Louis Blues</td>\n",
       "      <td>4.0</td>\n",
       "      <td>3.0</td>\n",
       "      <td>1</td>\n",
       "      <td>NaN</td>\n",
       "      <td>26.0</td>\n",
       "      <td>8.0</td>\n",
       "      <td>0.0</td>\n",
       "      <td>NaN</td>\n",
       "      <td>0.0</td>\n",
       "      <td>31.0</td>\n",
       "      <td>4.0</td>\n",
       "      <td>0.0</td>\n",
       "      <td>NaN</td>\n",
       "      <td>0.0</td>\n",
       "      <td>NaN</td>\n",
       "      <td>NaN</td>\n",
       "      <td>NaN</td>\n",
       "      <td>NaN</td>\n",
       "      <td>NaN</td>\n",
       "      <td>NaN</td>\n",
       "      <td>NaN</td>\n",
       "      <td>NaN</td>\n",
       "      <td>NaN</td>\n",
       "      <td>NaN</td>\n",
       "      <td>NaN</td>\n",
       "    </tr>\n",
       "    <tr>\n",
       "      <th>19</th>\n",
       "      <td>2011</td>\n",
       "      <td>2010-10-08</td>\n",
       "      <td>H</td>\n",
       "      <td>Minnesota Wild</td>\n",
       "      <td>2.0</td>\n",
       "      <td>1.0</td>\n",
       "      <td>1</td>\n",
       "      <td>SO</td>\n",
       "      <td>37.0</td>\n",
       "      <td>19.0</td>\n",
       "      <td>0.0</td>\n",
       "      <td>NaN</td>\n",
       "      <td>0.0</td>\n",
       "      <td>42.0</td>\n",
       "      <td>19.0</td>\n",
       "      <td>1.0</td>\n",
       "      <td>NaN</td>\n",
       "      <td>0.0</td>\n",
       "      <td>48.0</td>\n",
       "      <td>56.0</td>\n",
       "      <td>46.2</td>\n",
       "      <td>35.0</td>\n",
       "      <td>46.0</td>\n",
       "      <td>43.2</td>\n",
       "      <td>16.0</td>\n",
       "      <td>36.0</td>\n",
       "      <td>30.8</td>\n",
       "      <td>52.6</td>\n",
       "      <td>103.3</td>\n",
       "    </tr>\n",
       "    <tr>\n",
       "      <th>23</th>\n",
       "      <td>2010</td>\n",
       "      <td>2009-10-02</td>\n",
       "      <td>H</td>\n",
       "      <td>Philadelphia Flyers</td>\n",
       "      <td>0.0</td>\n",
       "      <td>2.0</td>\n",
       "      <td>0</td>\n",
       "      <td>NaN</td>\n",
       "      <td>28.0</td>\n",
       "      <td>29.0</td>\n",
       "      <td>0.0</td>\n",
       "      <td>NaN</td>\n",
       "      <td>0.0</td>\n",
       "      <td>27.0</td>\n",
       "      <td>25.0</td>\n",
       "      <td>2.0</td>\n",
       "      <td>NaN</td>\n",
       "      <td>0.0</td>\n",
       "      <td>41.0</td>\n",
       "      <td>35.0</td>\n",
       "      <td>53.9</td>\n",
       "      <td>33.0</td>\n",
       "      <td>30.0</td>\n",
       "      <td>52.4</td>\n",
       "      <td>18.0</td>\n",
       "      <td>21.0</td>\n",
       "      <td>46.2</td>\n",
       "      <td>66.1</td>\n",
       "      <td>100.0</td>\n",
       "    </tr>\n",
       "  </tbody>\n",
       "</table>\n",
       "</div>"
      ],
      "text/plain": [
       "    year   date_game game_location             opp_name  goals  opp_goals  \\\n",
       "1   1998  1997-10-03             H  Pittsburgh Penguins    3.0        4.0   \n",
       "4   1998  1997-10-10             H    New Jersey Devils    2.0        1.0   \n",
       "14  1998  1997-10-22             H      St. Louis Blues    4.0        3.0   \n",
       "19  2011  2010-10-08             H       Minnesota Wild    2.0        1.0   \n",
       "23  2010  2009-10-02             H  Philadelphia Flyers    0.0        2.0   \n",
       "\n",
       "    game_outcome overtimes  shots  pen_min  goals_pp  chances_pp  goals_sh  \\\n",
       "1              0       NaN   28.0     72.0       2.0         NaN       0.0   \n",
       "4              1       NaN   27.0      8.0       0.0         NaN       0.0   \n",
       "14             1       NaN   26.0      8.0       0.0         NaN       0.0   \n",
       "19             1        SO   37.0     19.0       0.0         NaN       0.0   \n",
       "23             0       NaN   28.0     29.0       0.0         NaN       0.0   \n",
       "\n",
       "    shots_against  pen_min_opp  goals_against_pp  opp_chances_pp  \\\n",
       "1            27.0         43.0               1.0             NaN   \n",
       "4            17.0          8.0               0.0             NaN   \n",
       "14           31.0          4.0               0.0             NaN   \n",
       "19           42.0         19.0               1.0             NaN   \n",
       "23           27.0         25.0               2.0             NaN   \n",
       "\n",
       "    goals_against_sh  corsi_for  corsi_against  corsi_pct  fenwick_for  \\\n",
       "1                0.0        NaN            NaN        NaN          NaN   \n",
       "4                0.0        NaN            NaN        NaN          NaN   \n",
       "14               0.0        NaN            NaN        NaN          NaN   \n",
       "19               0.0       48.0           56.0       46.2         35.0   \n",
       "23               0.0       41.0           35.0       53.9         33.0   \n",
       "\n",
       "    fenwick_against  fenwick_pct  faceoff_wins  faceoff_losses  \\\n",
       "1               NaN          NaN           NaN             NaN   \n",
       "4               NaN          NaN           NaN             NaN   \n",
       "14              NaN          NaN           NaN             NaN   \n",
       "19             46.0         43.2          16.0            36.0   \n",
       "23             30.0         52.4          18.0            21.0   \n",
       "\n",
       "    faceoff_percentage  zs_offense_pct    pdo  \n",
       "1                  NaN             NaN    NaN  \n",
       "4                  NaN             NaN    NaN  \n",
       "14                 NaN             NaN    NaN  \n",
       "19                30.8            52.6  103.3  \n",
       "23                46.2            66.1  100.0  "
      ]
     },
     "execution_count": 11,
     "metadata": {},
     "output_type": "execute_result"
    }
   ],
   "source": [
    "games_home_no_ties.head()"
   ]
  },
  {
   "cell_type": "markdown",
   "metadata": {},
   "source": [
    "First, let's take a very simplistic approach. Can we predict whether the Canes win a home game based on how many penalty minutes their opponent has? It might seem right that the \"cheaters never win\" line, since it plays only for opponent power plays, correlates with the opponent's actions. Let's plot some data first to see if we're on the right track."
   ]
  },
  {
   "cell_type": "code",
   "execution_count": 12,
   "metadata": {},
   "outputs": [],
   "source": [
    "result = np.array(games_home_no_ties['game_outcome'])"
   ]
  },
  {
   "cell_type": "code",
   "execution_count": 13,
   "metadata": {},
   "outputs": [],
   "source": [
    "opp_pim = np.array(games_home_no_ties['pen_min_opp'].fillna(0))\n",
    "\n",
    "opp_pim_reshape = opp_pim.reshape((opp_pim.shape[0], 1))"
   ]
  },
  {
   "cell_type": "code",
   "execution_count": 14,
   "metadata": {},
   "outputs": [
    {
     "data": {
      "image/png": "[encoded data removed]",
      "text/plain": [
       "<Figure size 432x288 with 1 Axes>"
      ]
     },
     "metadata": {},
     "output_type": "display_data"
    }
   ],
   "source": [
    "sns.distplot(opp_pim, kde=False).set_title('Distribution of Opposition Penalty Minutes - Overall')\n",
    "\n",
    "plt.show()"
   ]
  },
  {
   "cell_type": "code",
   "execution_count": 15,
   "metadata": {},
   "outputs": [],
   "source": [
    "opp_pim_wins = np.array(games_home_no_ties[games_home_no_ties['game_outcome'] == 1]['pen_min_opp'].fillna(0))\n",
    "opp_pim_losses = np.array(games_home_no_ties[games_home_no_ties['game_outcome'] == 0]['pen_min_opp'].fillna(0))"
   ]
  },
  {
   "cell_type": "code",
   "execution_count": 16,
   "metadata": {},
   "outputs": [
    {
     "data": {
      "image/png": "[encoded data removed]",
      "text/plain": [
       "<Figure size 432x288 with 1 Axes>"
      ]
     },
     "metadata": {},
     "output_type": "display_data"
    }
   ],
   "source": [
    "ax = sns.distplot(opp_pim_wins, label='Wins')\n",
    "sns.distplot(opp_pim_losses, label='Losses', ax=ax)\n",
    "\n",
    "ax.set_title('Distribution of Opposition Penalty Minutes in Wins and Losses')\n",
    "\n",
    "plt.legend()\n",
    "plt.show()"
   ]
  },
  {
   "cell_type": "markdown",
   "metadata": {},
   "source": [
    "From the plots, it seems that it might be hard to separate and predict wins and losses purely from opposition penalty minutes alone. Though there seem to be larger peaks for wins to the right of the peaks of the losses, the overall fit to the distributions is rather similar. Nevertheless, we persist! We shall produce a logistic regression model (fancy speak for trying to predict a 1/win or a 0/loss based on some data) for this purpose."
   ]
  },
  {
   "cell_type": "code",
   "execution_count": 17,
   "metadata": {},
   "outputs": [],
   "source": [
    "from sklearn.model_selection import GridSearchCV\n",
    "from sklearn.linear_model import LogisticRegression\n",
    "from sklearn.pipeline import Pipeline\n",
    "from sklearn.preprocessing import MinMaxScaler, StandardScaler"
   ]
  },
  {
   "cell_type": "code",
   "execution_count": 18,
   "metadata": {},
   "outputs": [
    {
     "name": "stdout",
     "output_type": "stream",
     "text": [
      "0.5485327313769752\n"
     ]
    }
   ],
   "source": [
    "range_c = 10\n",
    "\n",
    "param_grid_reg = {\n",
    "    'C' : [10**i for i in range(-range_c, range_c+1) if i != 0],\n",
    "    'fit_intercept' : [True, False]\n",
    "}\n",
    "# param_grid = {\n",
    "#     'logistic__C' : [10**i for i in range(-range_c, range_c+1) if i != 0],\n",
    "#     'logistic__fit_intercept' : [True, False]\n",
    "# }\n",
    "\n",
    "# pipe_min_max = Pipeline([\n",
    "#     ('scale', MinMaxScaler()),\n",
    "#     ('logistic', LogisticRegression())\n",
    "# ])\n",
    "\n",
    "# pipe_standard = Pipeline([\n",
    "#     ('scale', StandardScaler()),\n",
    "#     ('logistic', LogisticRegression())\n",
    "# ])\n",
    "\n",
    "grid_search_reg = GridSearchCV(LogisticRegression(penalty='none'), param_grid=param_grid_reg, cv=5)\n",
    "# grid_search_min_max = GridSearchCV(pipe_min_max, param_grid=param_grid, cv=5)\n",
    "# grid_search_standard = GridSearchCV(pipe_standard, param_grid=param_grid, cv=5)\n",
    "\n",
    "grid_search_reg.fit(opp_pim_reshape, result)\n",
    "# grid_search_min_max.fit(opp_pim_reshape, result)\n",
    "# grid_search_standard.fit(opp_pim_reshape, result)\n",
    "\n",
    "print (grid_search_reg.score(opp_pim_reshape, result))\n",
    "# print (grid_search_min_max.score(opp_pim_reshape, result))\n",
    "# print (grid_search_standard.score(opp_pim_reshape, result))"
   ]
  },
  {
   "cell_type": "code",
   "execution_count": 19,
   "metadata": {},
   "outputs": [
    {
     "name": "stdout",
     "output_type": "stream",
     "text": [
      "[[0.03527747]] [-0.30161866]\n"
     ]
    }
   ],
   "source": [
    "best = grid_search_reg.best_estimator_\n",
    "# min_max_best = grid_search_min_max.best_estimator_.named_steps['logistic']\n",
    "# standard_best = grid_search_standard.best_estimator_.named_steps['logistic']\n",
    "\n",
    "coefs = best.coef_\n",
    "intercept = best.intercept_\n",
    "\n",
    "# min_max_coefs = min_max_best.coef_\n",
    "# min_max_intercept = min_max_best.intercept_\n",
    "\n",
    "# standard_coefs = standard_best.coef_\n",
    "# standard_intercept = standard_best.intercept_\n",
    "\n",
    "print (coefs, intercept)\n",
    "# print (min_max_coefs, min_max_intercept)\n",
    "# print (standard_coefs, standard_intercept)"
   ]
  },
  {
   "cell_type": "markdown",
   "metadata": {},
   "source": [
    "By using some math, we can see what barrier of penalty minutes it takes for the model to predict a Canes win:\n",
    "\n",
    "$$ \\frac{1}{1+e^{-(m \\bullet x+b)}} \\ge \\frac{1}{2} $$\n",
    "\n",
    "$$ 2 \\ge 1 + e^{-(m \\bullet x+b)} $$\n",
    "\n",
    "$$ 1 \\ge e^{-(m \\bullet x+b)} $$\n",
    "\n",
    "$$ 0 \\ge -(m \\bullet x+b) $$\n",
    "\n",
    "$$ 0 < m \\bullet x + b $$\n",
    "\n",
    "$$ x > -b/m $$\n",
    "\n",
    "We have already found these values with our model, so all it remains to do is find x!"
   ]
  },
  {
   "cell_type": "code",
   "execution_count": 20,
   "metadata": {},
   "outputs": [
    {
     "data": {
      "text/plain": [
       "8.549894044230125"
      ]
     },
     "execution_count": 20,
     "metadata": {},
     "output_type": "execute_result"
    }
   ],
   "source": [
    "-intercept[0]/coefs[0][0]"
   ]
  },
  {
   "cell_type": "markdown",
   "metadata": {},
   "source": [
    "We can see that if the opponent has more than about 8.5 penalty minutes, the model will predict a Canes win; otherwise, a Canes loss is predicted. However, since this model only produced about 55% accuracy, we should be looking for something that does a little better."
   ]
  },
  {
   "cell_type": "code",
   "execution_count": 21,
   "metadata": {},
   "outputs": [
    {
     "data": {
      "text/plain": [
       "array([[1.        , 0.13942419],\n",
       "       [0.13942419, 1.        ]])"
      ]
     },
     "execution_count": 21,
     "metadata": {},
     "output_type": "execute_result"
    }
   ],
   "source": [
    "corr = np.corrcoef(games_home_no_ties[['game_outcome', 'pen_min_opp']].fillna(0).to_numpy(), rowvar=False)\n",
    "\n",
    "corr"
   ]
  },
  {
   "cell_type": "markdown",
   "metadata": {},
   "source": [
    "We can also see that the correlation coefficient between penalty minutes and the outcome is a measly .12, showing that we are perhaps misguided in using this simple definition."
   ]
  },
  {
   "cell_type": "markdown",
   "metadata": {},
   "source": [
    "## Cheater Definition 2\n",
    "\n",
    "Alright, take two: what if we define a \"cheater\" as whichever team has more penalty minutes? How often does this match with the result of the game?"
   ]
  },
  {
   "cell_type": "code",
   "execution_count": 22,
   "metadata": {},
   "outputs": [],
   "source": [
    "games_home_no_ties['pen_min'] = games_home_no_ties['pen_min'].fillna(0)\n",
    "games_home_no_ties['pen_min_opp'] = games_home_no_ties['pen_min_opp'].fillna(0)\n",
    "\n",
    "games_home_no_ties['more_pim'] = games_home_no_ties['pen_min'] > games_home_no_ties['pen_min_opp']\n",
    "games_home_no_ties['more_pim'] = games_home_no_ties['more_pim'].apply(lambda x : 1 if x else 0)"
   ]
  },
  {
   "cell_type": "code",
   "execution_count": 23,
   "metadata": {},
   "outputs": [
    {
     "data": {
      "text/plain": [
       "((743,), (743,))"
      ]
     },
     "execution_count": 23,
     "metadata": {},
     "output_type": "execute_result"
    }
   ],
   "source": [
    "more_pim = np.array(games_home_no_ties[games_home_no_ties['pen_min'] != games_home_no_ties['pen_min_opp']]['more_pim'])\n",
    "results_more_pim = np.array(games_home_no_ties[games_home_no_ties['pen_min'] != games_home_no_ties['pen_min_opp']]['game_outcome'])\n",
    "\n",
    "more_pim.shape, results_more_pim.shape"
   ]
  },
  {
   "cell_type": "code",
   "execution_count": 24,
   "metadata": {},
   "outputs": [
    {
     "data": {
      "text/plain": [
       "0.5302826379542396"
      ]
     },
     "execution_count": 24,
     "metadata": {},
     "output_type": "execute_result"
    }
   ],
   "source": [
    "equal_results = (more_pim != results_more_pim) \n",
    "\n",
    "np.sum(equal_results) / equal_results.shape[0]"
   ]
  },
  {
   "cell_type": "markdown",
   "metadata": {},
   "source": [
    "Hmm, so the team that has more penalty minutes only wins about 52% of the time. This is an interesting result, but it certainly does not help us in our question to definee the NHL cheater.\n",
    "\n",
    "If we define a Canes win with the Canes having less penalty minutes as a \"true positive,\" a Canes loss with the other team having less penalty minutes as a \"true negative,\" a Canes win with the Canes having more penalty minutes as a \"false positive,\" and a Canes loss with the other team having more penalty minutes as a \"false negative,\" we can produce what we call a confusion matrix."
   ]
  },
  {
   "cell_type": "code",
   "execution_count": 25,
   "metadata": {},
   "outputs": [],
   "source": [
    "from sklearn.metrics import confusion_matrix, plot_confusion_matrix"
   ]
  },
  {
   "cell_type": "code",
   "execution_count": 26,
   "metadata": {},
   "outputs": [
    {
     "name": "stdout",
     "output_type": "stream",
     "text": [
      "[[230 115]\n",
      " [279 119]]\n",
      "[[0.30955585 0.15477793]\n",
      " [0.37550471 0.16016151]]\n"
     ]
    }
   ],
   "source": [
    "print (confusion_matrix(results_more_pim, more_pim))\n",
    "\n",
    "print (confusion_matrix(results_more_pim, more_pim, normalize='all'))"
   ]
  },
  {
   "cell_type": "markdown",
   "metadata": {},
   "source": [
    "## Cheater Definition 3\n",
    "\n",
    "How about if we try to predict the winner based on the difference between the opponent's penalty minutes and the Canes'? Our intuition tells us tells us that a negative number (the Canes having more penalty minutes) probably means a Canes loss. This may seem exactly the same as the last (and it is admittedly quite similar), but this enables us to produce more nuance than a mere binary variable based on which team has more penalty minutes."
   ]
  },
  {
   "cell_type": "code",
   "execution_count": 27,
   "metadata": {},
   "outputs": [],
   "source": [
    "games_home_no_ties['pim_diff'] = games_home_no_ties['pen_min_opp'] - games_home_no_ties['pen_min']"
   ]
  },
  {
   "cell_type": "code",
   "execution_count": 28,
   "metadata": {},
   "outputs": [],
   "source": [
    "pim_diff = np.array(games_home_no_ties['pim_diff'])"
   ]
  },
  {
   "cell_type": "code",
   "execution_count": 29,
   "metadata": {},
   "outputs": [],
   "source": [
    "pim_diff_wins = np.array(games_home_no_ties[games_home_no_ties['game_outcome'] == 1]['pim_diff'])\n",
    "pim_diff_losses = np.array(games_home_no_ties[games_home_no_ties['game_outcome'] == 0]['pim_diff'])"
   ]
  },
  {
   "cell_type": "code",
   "execution_count": 30,
   "metadata": {},
   "outputs": [
    {
     "data": {
      "image/png": "[encoded data removed]",
      "text/plain": [
       "<Figure size 432x288 with 1 Axes>"
      ]
     },
     "metadata": {},
     "output_type": "display_data"
    }
   ],
   "source": [
    "ax = sns.distplot(pim_diff_wins, label='PIM Difference in Wins')\n",
    "sns.distplot(pim_diff_losses, label='PIM Difference in Losses', ax=ax)\n",
    "\n",
    "plt.legend()\n",
    "plt.show()"
   ]
  },
  {
   "cell_type": "markdown",
   "metadata": {},
   "source": [
    "Notes on the plots"
   ]
  },
  {
   "cell_type": "code",
   "execution_count": 31,
   "metadata": {},
   "outputs": [
    {
     "data": {
      "text/plain": [
       "0.5282167042889391"
      ]
     },
     "execution_count": 31,
     "metadata": {},
     "output_type": "execute_result"
    }
   ],
   "source": [
    "grid_search = GridSearchCV(LogisticRegression(penalty='none'), param_grid=param_grid_reg, cv=5)\n",
    "\n",
    "pim_diff_reshape = pim_diff.reshape((pim_diff.shape[0], 1))\n",
    "\n",
    "grid_search.fit(pim_diff_reshape, result)\n",
    "\n",
    "grid_search.score(pim_diff_reshape, result)"
   ]
  },
  {
   "cell_type": "code",
   "execution_count": 32,
   "metadata": {},
   "outputs": [
    {
     "data": {
      "text/plain": [
       "-0.9980850748234568"
      ]
     },
     "execution_count": 32,
     "metadata": {},
     "output_type": "execute_result"
    }
   ],
   "source": [
    "-grid_search.best_estimator_.intercept_[0]/grid_search.best_estimator_.coef_[0][0]"
   ]
  },
  {
   "cell_type": "markdown",
   "metadata": {},
   "source": [
    "Note on this result."
   ]
  },
  {
   "cell_type": "markdown",
   "metadata": {},
   "source": [
    "## Cheater Definition 4\n",
    "\n",
    "Maybe there's a more complex relationship between Canes' penalty minutes and opponent's penalty minutes which results in a win. Let's first plot some data to see if we're crazy or not, then take a look to see how we can do."
   ]
  },
  {
   "cell_type": "code",
   "execution_count": 37,
   "metadata": {},
   "outputs": [
    {
     "data": {
      "image/png": "[encoded data removed]",
      "text/plain": [
       "<Figure size 432x288 with 1 Axes>"
      ]
     },
     "metadata": {},
     "output_type": "display_data"
    }
   ],
   "source": [
    "hue=list(map(lambda x: 'Win' if x == 1 else 'Loss', result))\n",
    "\n",
    "ax = sns.scatterplot(x=games_home_no_ties['pen_min'], y=games_home_no_ties['pen_min_opp'], hue=hue, style=hue)\n",
    "\n",
    "xs = np.linspace(0, ax.get_xlim())\n",
    "\n",
    "plt.plot(xs, xs, '--', color='black', alpha=0.5, linewidth=1.5)\n",
    "\n",
    "plt.xlabel('Canes Penalty Minutes')\n",
    "plt.ylabel('Opponent Penalty Minutes')\n",
    "\n",
    "plt.show()"
   ]
  },
  {
   "cell_type": "markdown",
   "metadata": {},
   "source": [
    "It doesn't seem like this data is super separable, but let's explore it anyway to see how we can do."
   ]
  },
  {
   "cell_type": "code",
   "execution_count": 38,
   "metadata": {},
   "outputs": [
    {
     "data": {
      "text/plain": [
       "0.5428893905191874"
      ]
     },
     "execution_count": 38,
     "metadata": {},
     "output_type": "execute_result"
    }
   ],
   "source": [
    "log_reg = LogisticRegression(penalty='none')\n",
    "\n",
    "X = games_home_no_ties[['pen_min', 'pen_min_opp']].to_numpy()\n",
    "log_reg.fit(X, result)\n",
    "\n",
    "log_reg.score(X, result)"
   ]
  },
  {
   "cell_type": "markdown",
   "metadata": {},
   "source": [
    "Hmm not much better than just using the opponent's penalty minutes alone, but let's still do the math on it."
   ]
  },
  {
   "cell_type": "markdown",
   "metadata": {},
   "source": [
    "$$ \\frac{1}{1 + e^{-(\\alpha_{0} x_{0} + \\alpha_{1} x_{1} + b)}} \\ge \\frac{1}{2} $$\n",
    "\n",
    "$$ 2 \\ge 1 + e^{-(\\alpha_{0} x_{0} + \\alpha_{1} x_{1} + b)} $$\n",
    "\n",
    "$$ 1 \\ge e^{-(\\alpha_{0} x_{0} + \\alpha_{1} x_{1} + b)} $$\n",
    "\n",
    "$$ 0 \\lt \\alpha_{0} x_{0} + \\alpha_{1} x_{1} + b $$\n",
    "\n",
    "If we call $ x_{0} $ (or opponent penalty minutes) $ y $ and call $ x_{1} $ (Canes' penalty minutes) $ x $, then we get:\n",
    "\n",
    "$$ -\\alpha_{y} y \\lt \\alpha_{x} x + b $$\n",
    "\n",
    "$$ y \\ge -\\frac{\\alpha_{x}}{\\alpha_{y}} x - \\frac{b}{\\alpha_{y}} $$\n",
    "\n",
    "Instead of a point, here we get a line, but this can be plotted."
   ]
  },
  {
   "cell_type": "code",
   "execution_count": 39,
   "metadata": {},
   "outputs": [
    {
     "name": "stdout",
     "output_type": "stream",
     "text": [
      "[-0.025184    0.05105374]\n",
      "-0.2374725808077248\n",
      "y = 0.4933x - -4.6514\n"
     ]
    },
    {
     "data": {
      "image/png": "[encoded data removed]",
      "text/plain": [
       "<Figure size 432x288 with 1 Axes>"
      ]
     },
     "metadata": {},
     "output_type": "display_data"
    }
   ],
   "source": [
    "x_range = 20\n",
    "\n",
    "xs = np.linspace(0, x_range, num=x_range*2)\n",
    "\n",
    "coefs = log_reg.coef_[0]\n",
    "intercept = log_reg.intercept_[0]\n",
    "\n",
    "print (coefs)\n",
    "print (intercept)\n",
    "\n",
    "def slope(coefs):\n",
    "    return -(coefs[0]/coefs[1])\n",
    "\n",
    "def y_intercept(coefs, intercept):\n",
    "    return (intercept/coefs[1])\n",
    "\n",
    "def line(xs, coefs, intercept):\n",
    "    return slope(coefs) * xs - y_intercept(coefs, intercept)\n",
    "\n",
    "print ('y = {:.4f}x - {:.4f}'.format(slope(coefs), y_intercept(coefs, intercept)))\n",
    "\n",
    "ys = line(xs, coefs, intercept)\n",
    "\n",
    "fig, ax = plt.subplots()\n",
    "ax.plot(xs, ys, color='black', marker='*', linewidth=0)\n",
    "ax.set_aspect('equal')\n",
    "ax.grid(True, which='both')\n",
    "sns.despine(ax=ax, offset=0)\n",
    "\n",
    "plt.fill_between(xs, ys, color='red', alpha=0.5)\n",
    "\n",
    "plt.ylabel('Opponent Penalty Minutes')\n",
    "plt.xlabel('Canes Penalty Minutes')\n",
    "\n",
    "plt.show()"
   ]
  },
  {
   "cell_type": "markdown",
   "metadata": {},
   "source": [
    "Any point in the shaded region (extended ad infinitum, of course, were the Canes to be penalized egregiously) is predicted by our model to be a Canes loss. Anything combination above the line, however, is the coveted Canes win! However, since we are again in the 50s in terms of accuracy, we are not doing so hot. "
   ]
  },
  {
   "cell_type": "markdown",
   "metadata": {},
   "source": [
    "## Cheater Definition 5\n",
    " \n",
    "Maybe it's true that not every game has a cheater. Perhaps we can define a \"cheater\" as a team which has more than a certain level penalty minutes than the other team. Let us explore this hypothesis. "
   ]
  },
  {
   "cell_type": "code",
   "execution_count": 40,
   "metadata": {},
   "outputs": [
    {
     "data": {
      "text/plain": [
       "58.0"
      ]
     },
     "execution_count": 40,
     "metadata": {},
     "output_type": "execute_result"
    }
   ],
   "source": [
    "games_home_no_ties['pim_diff_abs'] = abs(games_home_no_ties['pen_min'] - games_home_no_ties['pen_min_opp'])\n",
    "\n",
    "games_home_no_ties['pim_diff_abs'].max()"
   ]
  },
  {
   "cell_type": "code",
   "execution_count": 41,
   "metadata": {},
   "outputs": [],
   "source": [
    "def scale(data, out_range):\n",
    "    dat = np.array(data)\n",
    "    domain = [np.min(dat, axis=0), np.max(dat, axis=0)]\n",
    "\n",
    "    def interp(x):\n",
    "        return out_range[0] * (1.0 - x) + out_range[1] * x\n",
    "\n",
    "    def uninterp(x):\n",
    "        b = 0\n",
    "        if (domain[1] - domain[0]) != 0:\n",
    "            b = domain[1] - domain[0]\n",
    "        else:\n",
    "            b =  1.0 / domain[1]\n",
    "        return (x - domain[0]) / b\n",
    "\n",
    "    return interp(uninterp(dat))"
   ]
  },
  {
   "cell_type": "code",
   "execution_count": 43,
   "metadata": {},
   "outputs": [
    {
     "name": "stdout",
     "output_type": "stream",
     "text": [
      "0 0.5282167042889391 886\n",
      "1 0.5302826379542396 743\n",
      "2 0.5296495956873315 742\n",
      "3 0.5560538116591929 446\n",
      "4 0.5540540540540541 444\n",
      "5 0.6023622047244095 254\n",
      "6 0.6007905138339921 253\n",
      "7 0.6516129032258065 155\n",
      "8 0.6578947368421053 152\n",
      "9 0.6851851851851852 108\n",
      "10 0.6952380952380952 105\n",
      "11 0.7236842105263158 76\n",
      "12 0.7397260273972602 73\n",
      "13 0.7962962962962963 54\n",
      "14 0.7924528301886793 53\n",
      "15 0.8095238095238095 42\n",
      "16 0.8048780487804879 41\n",
      "17 0.8620689655172413 29\n",
      "18 0.8461538461538461 26\n",
      "19 0.9 20\n",
      "20 0.8888888888888888 18\n",
      "21 0.8823529411764706 17\n",
      "22 0.8823529411764706 17\n",
      "23 0.8823529411764706 17\n",
      "24 0.9375 16\n",
      "25 1.0 12\n",
      "26 1.0 12\n",
      "27 1.0 11\n",
      "28 1.0 11\n",
      "29 1.0 9\n",
      "30 1.0 7\n",
      "31 1.0 5\n",
      "32 1.0 5\n",
      "33 1.0 5\n",
      "34 1.0 5\n",
      "35 1.0 5\n",
      "36 1.0 5\n",
      "37 1.0 5\n",
      "38 1.0 4\n",
      "39 1.0 2\n",
      "40 1.0 2\n",
      "41 1.0 2\n",
      "42 1.0 2\n",
      "43 1.0 1\n",
      "44 1.0 1\n",
      "45 1.0 1\n",
      "46 1.0 1\n",
      "47 1.0 1\n",
      "48 1.0 1\n",
      "49 1.0 1\n",
      "50 1.0 1\n",
      "51 1.0 1\n",
      "52 1.0 1\n",
      "53 1.0 1\n",
      "54 1.0 1\n",
      "55 1.0 1\n",
      "56 1.0 1\n",
      "57 1.0 1\n",
      "58 1.0 1\n",
      "25 1.0\n"
     ]
    }
   ],
   "source": [
    "best_diff = 0\n",
    "best_acc = 0\n",
    "\n",
    "xs = []\n",
    "ys = []\n",
    "sizes = []\n",
    "\n",
    "fraction = 0\n",
    "\n",
    "for pimdiff in range(0, int(games_home_no_ties['pim_diff_abs'].max())+1):\n",
    "    subset = games_home_no_ties[games_home_no_ties['pim_diff_abs'] >= pimdiff]\n",
    "    \n",
    "    if subset.shape[0] < fraction*games_home_no_ties.shape[0]:\n",
    "        continue\n",
    "    \n",
    "    subset['cheaters'] = (subset['pen_min'] > subset['pen_min_opp']).apply(lambda x : 1 if x else 0)\n",
    "    \n",
    "    cheaters = subset['cheaters']\n",
    "    \n",
    "#     if pimdiff >= 35:\n",
    "#         print (subset[['pen_min', 'pen_min_opp', 'pim_diff', 'game_outcome', 'cheaters']].head())\n",
    "    \n",
    "    curr_result = subset['game_outcome']\n",
    "    \n",
    "    curr_acc = sum(cheaters != curr_result) / curr_result.shape[0]\n",
    "    \n",
    "    print (pimdiff, curr_acc, curr_result.shape[0])\n",
    "    xs.append(pimdiff)\n",
    "    ys.append(curr_acc)\n",
    "    sizes.append(curr_result.shape[0])\n",
    "\n",
    "    if curr_acc > best_acc:\n",
    "        best_acc = curr_acc\n",
    "        best_diff = pimdiff\n",
    "\n",
    "sizes = scale(sizes, (5, 50))\n",
    "ys = [100*y for y in ys]\n",
    "print (best_diff, best_acc)    "
   ]
  },
  {
   "cell_type": "code",
   "execution_count": 44,
   "metadata": {},
   "outputs": [
    {
     "data": {
      "image/png": "[encoded data removed]",
      "text/plain": [
       "<Figure size 432x288 with 1 Axes>"
      ]
     },
     "metadata": {},
     "output_type": "display_data"
    }
   ],
   "source": [
    "plt.plot(xs, ys, '--', linewidth=2)\n",
    "plt.scatter(xs, ys, s=sizes, c='r', marker='o')\n",
    "\n",
    "plt.show()"
   ]
  },
  {
   "cell_type": "markdown",
   "metadata": {},
   "source": [
    "Maybe our hypothesis that every game has a cheater was correct, but we can only define a cheater as a team which possesses beyond a certain limit of penalty minutes in a game."
   ]
  },
  {
   "cell_type": "code",
   "execution_count": 45,
   "metadata": {},
   "outputs": [
    {
     "data": {
      "text/plain": [
       "72.0"
      ]
     },
     "execution_count": 45,
     "metadata": {},
     "output_type": "execute_result"
    }
   ],
   "source": [
    "games_home_no_ties['pen_min'].max()"
   ]
  },
  {
   "cell_type": "code",
   "execution_count": 46,
   "metadata": {},
   "outputs": [
    {
     "data": {
      "text/plain": [
       "87.0"
      ]
     },
     "execution_count": 46,
     "metadata": {},
     "output_type": "execute_result"
    }
   ],
   "source": [
    "games_home_no_ties['pen_min_opp'].max()"
   ]
  },
  {
   "cell_type": "code",
   "execution_count": 47,
   "metadata": {},
   "outputs": [
    {
     "name": "stdout",
     "output_type": "stream",
     "text": [
      " 1, 0.2000,  15\n",
      " 3, 0.3485,  66\n",
      " 5, 0.4663, 178\n",
      " 7, 0.5139, 216\n",
      " 8, 0.5197, 229\n",
      " 9, 0.5488, 215\n",
      "10, 0.5603, 232\n",
      "11, 0.5808, 198\n",
      "12, 0.5902, 205\n",
      "13, 0.6556, 180\n",
      "17, 0.6714, 140\n",
      "20, 0.7113,  97\n",
      "25, 0.7115,  52\n",
      "40, 0.7273,  11\n",
      "41, 0.7500,  12\n",
      "47, 0.8889,   9\n",
      "49, 1.0000,   8\n",
      "11 0.5553047404063205\n",
      "49 1.0\n",
      "88 88 88\n"
     ]
    }
   ],
   "source": [
    "best_pim = 0\n",
    "best_score = 0\n",
    "\n",
    "best_pim_acc = 0\n",
    "best_acc = 0\n",
    "\n",
    "pims = []\n",
    "scores = []\n",
    "accs = []\n",
    "size_accs = []\n",
    "\n",
    "max_pim = games_home_no_ties['pen_min_opp'].max() if games_home_no_ties['pen_min_opp'].max() > games_home_no_ties['pen_min'].max() else games_home_no_ties['pen_min'].max()\n",
    "max_pim = int(max_pim)\n",
    "for pim in range(0, max_pim+1):\n",
    "    games_home_no_ties['canes_cheat'] = games_home_no_ties['pen_min'] >= pim\n",
    "    games_home_no_ties['canes_cheat'] = games_home_no_ties['canes_cheat'].apply(lambda x: 1 if x else 0)\n",
    "    \n",
    "    games_home_no_ties['opp_cheat'] = games_home_no_ties['pen_min_opp'] >= pim\n",
    "    games_home_no_ties['opp_cheat'] = games_home_no_ties['opp_cheat'].apply(lambda x: 1 if x else 0)\n",
    "    \n",
    "    X = games_home_no_ties[['canes_cheat', 'opp_cheat']].to_numpy()\n",
    "    \n",
    "    log_reg = LogisticRegression(penalty='none')\n",
    "    log_reg.fit(X, result)\n",
    "    \n",
    "    score = log_reg.score(X, result)\n",
    "    \n",
    "    pims.append(pim)\n",
    "    scores.append(score)\n",
    "    \n",
    "    if score > best_score:\n",
    "        best_pim = pim\n",
    "        best_score = score\n",
    "        \n",
    "    games_home_no_ties['non_cheater'] = games_home_no_ties['canes_cheat'] == games_home_no_ties['opp_cheat']\n",
    "    games_home_no_ties['cheater'] = games_home_no_ties['canes_cheat'] > games_home_no_ties['opp_cheat']\n",
    "    \n",
    "    subset = games_home_no_ties[games_home_no_ties['non_cheater'] == False]\n",
    "    outcome_subset = np.array(subset['game_outcome'])\n",
    "    cheater = np.array(subset['cheater'])\n",
    "    \n",
    "    if cheater.shape[0] == 0:\n",
    "        accs.append(0)\n",
    "        size_accs.append(0)\n",
    "        continue\n",
    "    acc = cheater != outcome_subset\n",
    "    acc = sum(acc) / acc.shape[0]\n",
    "    \n",
    "    accs.append(acc)\n",
    "    size_accs.append(cheater.shape[0])\n",
    "    if acc > best_acc:\n",
    "        print ('{:2}, {:.4f}, {:3}'.format(pim, acc, cheater.shape[0]))\n",
    "        best_acc = acc\n",
    "        best_pim_acc = pim\n",
    "\n",
    "print (best_pim, best_score)\n",
    "print (best_pim_acc, best_acc)\n",
    "\n",
    "size_accs = scale(size_accs, (5, 50))\n",
    "print (len(accs), len(pims), len(scores))"
   ]
  },
  {
   "cell_type": "code",
   "execution_count": 48,
   "metadata": {},
   "outputs": [
    {
     "data": {
      "image/png": "[encoded data removed]",
      "text/plain": [
       "<Figure size 432x288 with 1 Axes>"
      ]
     },
     "metadata": {},
     "output_type": "display_data"
    }
   ],
   "source": [
    "plt.plot(pims, scores, linewidth=1, label='LogReg')\n",
    "plt.scatter(pims, accs, color='r', marker='o', s=size_accs)\n",
    "plt.plot(pims, accs, '--', color='black', linewidth=1, label='Cheating Accuracy')\n",
    "\n",
    "plt.legend()\n",
    "\n",
    "plt.show()"
   ]
  },
  {
   "cell_type": "markdown",
   "metadata": {},
   "source": [
    "### Adam's Definitions\n",
    "\n",
    "Well the way the team seems to define it is anyone who takes a penalty. I suppose I’d define it personally as someone who deliberately breaks the rules to systemically advantage their team in the game.\n",
    "\n",
    "However I think it’s best to go off team definition since the whole original question (at least for me) basically was “how accurate is this chant?”\n",
    "\n",
    "I’d be interested to answer that in 3 ways:\n",
    "\n",
    "1) not really measurable, How often do visiting teams “get away” with penalties (I.e. no-calls) compared to other arenas?\n",
    "\n",
    "2) what is the hurricanes home PK percentage since adopting the chant (whatever year that is) and how does it measure to the rest of the league in the average game?\n",
    "\n",
    "3) how many short handed goals have been given up at home by the hurricanes since adopting the chant compared to the rest of the league?"
   ]
  },
  {
   "cell_type": "markdown",
   "metadata": {},
   "source": [
    "To answer the third query:"
   ]
  },
  {
   "cell_type": "code",
   "execution_count": 53,
   "metadata": {},
   "outputs": [
    {
     "data": {
      "text/plain": [
       "81.0"
      ]
     },
     "execution_count": 53,
     "metadata": {},
     "output_type": "execute_result"
    }
   ],
   "source": [
    "games_home['goals_against_sh'].sum()"
   ]
  },
  {
   "cell_type": "code",
   "execution_count": 60,
   "metadata": {},
   "outputs": [],
   "source": [
    "years = []\n",
    "sh_goals = []\n",
    "\n",
    "for row in games_home.groupby(by='year')['goals_against_sh'].sum().iteritems():\n",
    "    years.append(row[0])\n",
    "    sh_goals.append(row[1])"
   ]
  },
  {
   "cell_type": "code",
   "execution_count": 104,
   "metadata": {},
   "outputs": [
    {
     "data": {
      "image/png": "[encoded data removed]",
      "text/plain": [
       "<Figure size 432x288 with 1 Axes>"
      ]
     },
     "metadata": {},
     "output_type": "display_data"
    }
   ],
   "source": [
    "ax = sns.barplot(x=years, y=sh_goals, color='red', alpha=0.5)\n",
    "\n",
    "plt.xlabel('Year')\n",
    "plt.ylabel('Shorthanded Goals')\n",
    "plt.xticks(rotation=90)\n",
    "plt.show()"
   ]
  },
  {
   "cell_type": "code",
   "execution_count": null,
   "metadata": {},
   "outputs": [],
   "source": []
  }
 ],
 "metadata": {
  "kernelspec": {
   "display_name": "Python 3",
   "language": "python",
   "name": "python3"
  },
  "language_info": {
   "codemirror_mode": {
    "name": "ipython",
    "version": 3
   },
   "file_extension": ".py",
   "mimetype": "text/x-python",
   "name": "python",
   "nbconvert_exporter": "python",
   "pygments_lexer": "ipython3",
   "version": "3.6.9"
  }
 },
 "nbformat": 4,
 "nbformat_minor": 4
}
